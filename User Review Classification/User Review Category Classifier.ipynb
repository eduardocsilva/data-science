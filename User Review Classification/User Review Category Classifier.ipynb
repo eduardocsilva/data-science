{
 "cells": [
  {
   "cell_type": "markdown",
   "id": "961bd0ed",
   "metadata": {},
   "source": [
    "# User Review Category Classifier\n",
    "\n",
    "Developed with Scikit-learn, Pandas, etc.\n",
    "\n",
    "Based on the following [tutorial](https://www.youtube.com/watch?v=M9Itm95JzL0), from Keith Galli.\n",
    "\n",
    "Reviews retrieved from the following [Amazon user reviews dataset](https://nijianmo.github.io/amazon/index.html)."
   ]
  },
  {
   "cell_type": "markdown",
   "id": "cb3f63b4",
   "metadata": {},
   "source": [
    "### 1. Load Data"
   ]
  },
  {
   "cell_type": "code",
   "execution_count": 19,
   "id": "ad5ed570",
   "metadata": {},
   "outputs": [
    {
     "data": {
      "text/html": [
       "<div>\n",
       "<style scoped>\n",
       "    .dataframe tbody tr th:only-of-type {\n",
       "        vertical-align: middle;\n",
       "    }\n",
       "\n",
       "    .dataframe tbody tr th {\n",
       "        vertical-align: top;\n",
       "    }\n",
       "\n",
       "    .dataframe thead th {\n",
       "        text-align: right;\n",
       "    }\n",
       "</style>\n",
       "<table border=\"1\" class=\"dataframe\">\n",
       "  <thead>\n",
       "    <tr style=\"text-align: right;\">\n",
       "      <th></th>\n",
       "      <th>reviewerID</th>\n",
       "      <th>asin</th>\n",
       "      <th>reviewerName</th>\n",
       "      <th>helpful</th>\n",
       "      <th>reviewText</th>\n",
       "      <th>overall</th>\n",
       "      <th>summary</th>\n",
       "      <th>unixReviewTime</th>\n",
       "      <th>reviewTime</th>\n",
       "      <th>category</th>\n",
       "    </tr>\n",
       "  </thead>\n",
       "  <tbody>\n",
       "    <tr>\n",
       "      <th>0</th>\n",
       "      <td>A1E5ZR1Z4OQJG</td>\n",
       "      <td>1495329321</td>\n",
       "      <td>Pure Jonel \"Pure Jonel\"</td>\n",
       "      <td>[0, 0]</td>\n",
       "      <td>Da Silva takes the divine by storm with this u...</td>\n",
       "      <td>4</td>\n",
       "      <td>An amazing first novel</td>\n",
       "      <td>1396137600</td>\n",
       "      <td>03 30, 2014</td>\n",
       "      <td>BOOKS</td>\n",
       "    </tr>\n",
       "    <tr>\n",
       "      <th>1</th>\n",
       "      <td>A30PZPI6FPH0A7</td>\n",
       "      <td>0399157565</td>\n",
       "      <td>Jackmollie</td>\n",
       "      <td>[0, 0]</td>\n",
       "      <td>For me personally it's the most disappointing ...</td>\n",
       "      <td>2</td>\n",
       "      <td>disappointed</td>\n",
       "      <td>1400112000</td>\n",
       "      <td>05 15, 2014</td>\n",
       "      <td>BOOKS</td>\n",
       "    </tr>\n",
       "    <tr>\n",
       "      <th>2</th>\n",
       "      <td>A1GQ2UI5BKCCRD</td>\n",
       "      <td>0984528105</td>\n",
       "      <td>Gail Hodges</td>\n",
       "      <td>[0, 0]</td>\n",
       "      <td>Very simple book, but leaves you feeling good....</td>\n",
       "      <td>4</td>\n",
       "      <td>Good book</td>\n",
       "      <td>1401235200</td>\n",
       "      <td>05 28, 2014</td>\n",
       "      <td>BOOKS</td>\n",
       "    </tr>\n",
       "    <tr>\n",
       "      <th>3</th>\n",
       "      <td>A2DF4LQQI6KSQ2</td>\n",
       "      <td>0804139024</td>\n",
       "      <td>Olga</td>\n",
       "      <td>[0, 0]</td>\n",
       "      <td>I read a library copy of this exceptionally we...</td>\n",
       "      <td>5</td>\n",
       "      <td>Science Fiction at its best!</td>\n",
       "      <td>1396483200</td>\n",
       "      <td>04 3, 2014</td>\n",
       "      <td>BOOKS</td>\n",
       "    </tr>\n",
       "    <tr>\n",
       "      <th>4</th>\n",
       "      <td>A1UAMAWY966P2</td>\n",
       "      <td>0765317583</td>\n",
       "      <td>Nadyne M Ichimura</td>\n",
       "      <td>[0, 0]</td>\n",
       "      <td>With the government knowing this could happen ...</td>\n",
       "      <td>5</td>\n",
       "      <td>Excellent story</td>\n",
       "      <td>1397001600</td>\n",
       "      <td>04 9, 2014</td>\n",
       "      <td>BOOKS</td>\n",
       "    </tr>\n",
       "    <tr>\n",
       "      <th>...</th>\n",
       "      <td>...</td>\n",
       "      <td>...</td>\n",
       "      <td>...</td>\n",
       "      <td>...</td>\n",
       "      <td>...</td>\n",
       "      <td>...</td>\n",
       "      <td>...</td>\n",
       "      <td>...</td>\n",
       "      <td>...</td>\n",
       "      <td>...</td>\n",
       "    </tr>\n",
       "    <tr>\n",
       "      <th>4995</th>\n",
       "      <td>A1BK60GZ4QME6I</td>\n",
       "      <td>B00GVL015Q</td>\n",
       "      <td>John W. Graham</td>\n",
       "      <td>[0, 0]</td>\n",
       "      <td>My biggest issue with having a hummingbird fee...</td>\n",
       "      <td>4</td>\n",
       "      <td>Attractive - well liked</td>\n",
       "      <td>1401840000</td>\n",
       "      <td>06 4, 2014</td>\n",
       "      <td>PATIO</td>\n",
       "    </tr>\n",
       "    <tr>\n",
       "      <th>4996</th>\n",
       "      <td>ASJZT7DM51QEM</td>\n",
       "      <td>B00GSQ6HXO</td>\n",
       "      <td>Patrick Holt \"txdragon\"</td>\n",
       "      <td>[0, 0]</td>\n",
       "      <td>So far this feeder seems to work well.  The we...</td>\n",
       "      <td>4</td>\n",
       "      <td>works well</td>\n",
       "      <td>1400025600</td>\n",
       "      <td>05 14, 2014</td>\n",
       "      <td>PATIO</td>\n",
       "    </tr>\n",
       "    <tr>\n",
       "      <th>4997</th>\n",
       "      <td>A1P043IW9XANEZ</td>\n",
       "      <td>B000BX1H76</td>\n",
       "      <td>Texas Steve \"Texas Steve\"</td>\n",
       "      <td>[0, 0]</td>\n",
       "      <td>I bought this to trap some feral cats. It work...</td>\n",
       "      <td>5</td>\n",
       "      <td>Trap those feral cats!!</td>\n",
       "      <td>1403654400</td>\n",
       "      <td>06 25, 2014</td>\n",
       "      <td>PATIO</td>\n",
       "    </tr>\n",
       "    <tr>\n",
       "      <th>4998</th>\n",
       "      <td>A19VW07IUHNV1R</td>\n",
       "      <td>B00GTDIDBU</td>\n",
       "      <td>Amazon Customer</td>\n",
       "      <td>[0, 0]</td>\n",
       "      <td>I used this to seed start a whole lot of morni...</td>\n",
       "      <td>5</td>\n",
       "      <td>Nice mix</td>\n",
       "      <td>1401148800</td>\n",
       "      <td>05 27, 2014</td>\n",
       "      <td>PATIO</td>\n",
       "    </tr>\n",
       "    <tr>\n",
       "      <th>4999</th>\n",
       "      <td>A1ZJB4TGU85WBC</td>\n",
       "      <td>B000E28UQU</td>\n",
       "      <td>JenBar</td>\n",
       "      <td>[0, 0]</td>\n",
       "      <td>Several parts were missing--including the spra...</td>\n",
       "      <td>3</td>\n",
       "      <td>Multiple parts missing, lid not as secure as o...</td>\n",
       "      <td>1404777600</td>\n",
       "      <td>07 8, 2014</td>\n",
       "      <td>PATIO</td>\n",
       "    </tr>\n",
       "  </tbody>\n",
       "</table>\n",
       "<p>5000 rows × 10 columns</p>\n",
       "</div>"
      ],
      "text/plain": [
       "          reviewerID        asin               reviewerName helpful  \\\n",
       "0      A1E5ZR1Z4OQJG  1495329321    Pure Jonel \"Pure Jonel\"  [0, 0]   \n",
       "1     A30PZPI6FPH0A7  0399157565                 Jackmollie  [0, 0]   \n",
       "2     A1GQ2UI5BKCCRD  0984528105                Gail Hodges  [0, 0]   \n",
       "3     A2DF4LQQI6KSQ2  0804139024                       Olga  [0, 0]   \n",
       "4      A1UAMAWY966P2  0765317583          Nadyne M Ichimura  [0, 0]   \n",
       "...              ...         ...                        ...     ...   \n",
       "4995  A1BK60GZ4QME6I  B00GVL015Q             John W. Graham  [0, 0]   \n",
       "4996   ASJZT7DM51QEM  B00GSQ6HXO    Patrick Holt \"txdragon\"  [0, 0]   \n",
       "4997  A1P043IW9XANEZ  B000BX1H76  Texas Steve \"Texas Steve\"  [0, 0]   \n",
       "4998  A19VW07IUHNV1R  B00GTDIDBU            Amazon Customer  [0, 0]   \n",
       "4999  A1ZJB4TGU85WBC  B000E28UQU                     JenBar  [0, 0]   \n",
       "\n",
       "                                             reviewText  overall  \\\n",
       "0     Da Silva takes the divine by storm with this u...        4   \n",
       "1     For me personally it's the most disappointing ...        2   \n",
       "2     Very simple book, but leaves you feeling good....        4   \n",
       "3     I read a library copy of this exceptionally we...        5   \n",
       "4     With the government knowing this could happen ...        5   \n",
       "...                                                 ...      ...   \n",
       "4995  My biggest issue with having a hummingbird fee...        4   \n",
       "4996  So far this feeder seems to work well.  The we...        4   \n",
       "4997  I bought this to trap some feral cats. It work...        5   \n",
       "4998  I used this to seed start a whole lot of morni...        5   \n",
       "4999  Several parts were missing--including the spra...        3   \n",
       "\n",
       "                                                summary  unixReviewTime  \\\n",
       "0                                An amazing first novel      1396137600   \n",
       "1                                          disappointed      1400112000   \n",
       "2                                             Good book      1401235200   \n",
       "3                          Science Fiction at its best!      1396483200   \n",
       "4                                       Excellent story      1397001600   \n",
       "...                                                 ...             ...   \n",
       "4995                            Attractive - well liked      1401840000   \n",
       "4996                                         works well      1400025600   \n",
       "4997                            Trap those feral cats!!      1403654400   \n",
       "4998                                           Nice mix      1401148800   \n",
       "4999  Multiple parts missing, lid not as secure as o...      1404777600   \n",
       "\n",
       "       reviewTime category  \n",
       "0     03 30, 2014    BOOKS  \n",
       "1     05 15, 2014    BOOKS  \n",
       "2     05 28, 2014    BOOKS  \n",
       "3      04 3, 2014    BOOKS  \n",
       "4      04 9, 2014    BOOKS  \n",
       "...           ...      ...  \n",
       "4995   06 4, 2014    PATIO  \n",
       "4996  05 14, 2014    PATIO  \n",
       "4997  06 25, 2014    PATIO  \n",
       "4998  05 27, 2014    PATIO  \n",
       "4999   07 8, 2014    PATIO  \n",
       "\n",
       "[5000 rows x 10 columns]"
      ]
     },
     "execution_count": 19,
     "metadata": {},
     "output_type": "execute_result"
    }
   ],
   "source": [
    "import pandas as pd\n",
    "import numpy as np\n",
    "\n",
    "# Define existing labels\n",
    "labels = [\"BOOKS\", \"CLOTHING\", \"ELECTRONICS\", \"GROCERY\", \"PATIO\"]\n",
    "\n",
    "# Load all datasets\n",
    "df_books = pd.read_json(\"./data/category/Books.json\")\n",
    "df_clothing = pd.read_json(\"./data/category/Clothing.json\")\n",
    "df_electronics = pd.read_json(\"./data/category/Electronics.json\")\n",
    "df_grocery = pd.read_json(\"./data/category/Grocery.json\")\n",
    "df_patio = pd.read_json(\"./data/category/Patio.json\")\n",
    "\n",
    "# Add label to identify each category\n",
    "df_books[\"category\"] = \"BOOKS\"\n",
    "df_clothing[\"category\"] = \"CLOTHING\"\n",
    "df_electronics[\"category\"] = \"ELECTRONICS\"\n",
    "df_grocery[\"category\"] = \"GROCERY\"\n",
    "df_patio[\"category\"] = \"PATIO\"\n",
    "\n",
    "# Join datasets to a single one\n",
    "raw_df = pd.concat([df_books, df_clothing, df_electronics, df_grocery, df_patio], ignore_index=True)\n",
    "raw_df"
   ]
  },
  {
   "cell_type": "code",
   "execution_count": 21,
   "id": "f6a45510",
   "metadata": {},
   "outputs": [
    {
     "data": {
      "text/html": [
       "<div>\n",
       "<style scoped>\n",
       "    .dataframe tbody tr th:only-of-type {\n",
       "        vertical-align: middle;\n",
       "    }\n",
       "\n",
       "    .dataframe tbody tr th {\n",
       "        vertical-align: top;\n",
       "    }\n",
       "\n",
       "    .dataframe thead th {\n",
       "        text-align: right;\n",
       "    }\n",
       "</style>\n",
       "<table border=\"1\" class=\"dataframe\">\n",
       "  <thead>\n",
       "    <tr style=\"text-align: right;\">\n",
       "      <th></th>\n",
       "      <th>reviewText</th>\n",
       "      <th>category</th>\n",
       "    </tr>\n",
       "  </thead>\n",
       "  <tbody>\n",
       "    <tr>\n",
       "      <th>0</th>\n",
       "      <td>Da Silva takes the divine by storm with this u...</td>\n",
       "      <td>BOOKS</td>\n",
       "    </tr>\n",
       "    <tr>\n",
       "      <th>1</th>\n",
       "      <td>For me personally it's the most disappointing ...</td>\n",
       "      <td>BOOKS</td>\n",
       "    </tr>\n",
       "    <tr>\n",
       "      <th>2</th>\n",
       "      <td>Very simple book, but leaves you feeling good....</td>\n",
       "      <td>BOOKS</td>\n",
       "    </tr>\n",
       "    <tr>\n",
       "      <th>3</th>\n",
       "      <td>I read a library copy of this exceptionally we...</td>\n",
       "      <td>BOOKS</td>\n",
       "    </tr>\n",
       "    <tr>\n",
       "      <th>4</th>\n",
       "      <td>With the government knowing this could happen ...</td>\n",
       "      <td>BOOKS</td>\n",
       "    </tr>\n",
       "    <tr>\n",
       "      <th>...</th>\n",
       "      <td>...</td>\n",
       "      <td>...</td>\n",
       "    </tr>\n",
       "    <tr>\n",
       "      <th>4995</th>\n",
       "      <td>My biggest issue with having a hummingbird fee...</td>\n",
       "      <td>PATIO</td>\n",
       "    </tr>\n",
       "    <tr>\n",
       "      <th>4996</th>\n",
       "      <td>So far this feeder seems to work well.  The we...</td>\n",
       "      <td>PATIO</td>\n",
       "    </tr>\n",
       "    <tr>\n",
       "      <th>4997</th>\n",
       "      <td>I bought this to trap some feral cats. It work...</td>\n",
       "      <td>PATIO</td>\n",
       "    </tr>\n",
       "    <tr>\n",
       "      <th>4998</th>\n",
       "      <td>I used this to seed start a whole lot of morni...</td>\n",
       "      <td>PATIO</td>\n",
       "    </tr>\n",
       "    <tr>\n",
       "      <th>4999</th>\n",
       "      <td>Several parts were missing--including the spra...</td>\n",
       "      <td>PATIO</td>\n",
       "    </tr>\n",
       "  </tbody>\n",
       "</table>\n",
       "<p>5000 rows × 2 columns</p>\n",
       "</div>"
      ],
      "text/plain": [
       "                                             reviewText category\n",
       "0     Da Silva takes the divine by storm with this u...    BOOKS\n",
       "1     For me personally it's the most disappointing ...    BOOKS\n",
       "2     Very simple book, but leaves you feeling good....    BOOKS\n",
       "3     I read a library copy of this exceptionally we...    BOOKS\n",
       "4     With the government knowing this could happen ...    BOOKS\n",
       "...                                                 ...      ...\n",
       "4995  My biggest issue with having a hummingbird fee...    PATIO\n",
       "4996  So far this feeder seems to work well.  The we...    PATIO\n",
       "4997  I bought this to trap some feral cats. It work...    PATIO\n",
       "4998  I used this to seed start a whole lot of morni...    PATIO\n",
       "4999  Several parts were missing--including the spra...    PATIO\n",
       "\n",
       "[5000 rows x 2 columns]"
      ]
     },
     "execution_count": 21,
     "metadata": {},
     "output_type": "execute_result"
    }
   ],
   "source": [
    "# Filter necessary columns\n",
    "df = raw_df[[\"reviewText\", \"category\"]]\n",
    "df"
   ]
  },
  {
   "cell_type": "markdown",
   "id": "4de7188b",
   "metadata": {},
   "source": [
    "### 2. Prepare Data"
   ]
  },
  {
   "cell_type": "code",
   "execution_count": 22,
   "id": "65cddae8",
   "metadata": {},
   "outputs": [
    {
     "name": "stdout",
     "output_type": "stream",
     "text": [
      "Training Set Length: 3350\n",
      "Test Set Length: 1650\n"
     ]
    }
   ],
   "source": [
    "# Split data into training and test set\n",
    "from sklearn.model_selection import train_test_split\n",
    "\n",
    "split_seed = 10\n",
    "train, test = train_test_split(df, test_size=0.33, random_state=split_seed)\n",
    "\n",
    "print(\"Training Set Length:\", len(train))\n",
    "print(\"Test Set Length:\", len(test))"
   ]
  },
  {
   "cell_type": "code",
   "execution_count": 23,
   "id": "e3010358",
   "metadata": {},
   "outputs": [],
   "source": [
    "# Seperate features from labels\n",
    "train_x = train[[\"reviewText\"]]\n",
    "train_y = train[[\"category\"]]\n",
    "\n",
    "test_x = test[[\"reviewText\"]]\n",
    "test_y = test[[\"category\"]]"
   ]
  },
  {
   "cell_type": "markdown",
   "id": "6e86cc61",
   "metadata": {},
   "source": [
    "### 3. Text Vectorization"
   ]
  },
  {
   "cell_type": "code",
   "execution_count": 24,
   "id": "63bcff7d",
   "metadata": {
    "scrolled": false
   },
   "outputs": [],
   "source": [
    "# Tokenize text into bags of words\n",
    "from sklearn.feature_extraction.text import CountVectorizer\n",
    "\n",
    "vectorizer = CountVectorizer()\n",
    "train_x_vectors = vectorizer.fit_transform(train_x[\"reviewText\"].values.astype('U'))\n",
    "test_x_vectors = vectorizer.transform(test_x[\"reviewText\"].values.astype('U'))"
   ]
  },
  {
   "cell_type": "markdown",
   "id": "61757d3a",
   "metadata": {},
   "source": [
    "### 4. Training"
   ]
  },
  {
   "cell_type": "markdown",
   "id": "5668d742",
   "metadata": {},
   "source": [
    "#### 4.1. Linear SVM"
   ]
  },
  {
   "cell_type": "code",
   "execution_count": 36,
   "id": "c75a6bc1",
   "metadata": {},
   "outputs": [
    {
     "name": "stdout",
     "output_type": "stream",
     "text": [
      "Test Review: So glad this installment finally published. Love me some Melody Anne, I'm sad to think that Joseph Anderson May be out of single men to set up!\n",
      "Prediction: BOOKS\n"
     ]
    }
   ],
   "source": [
    "from sklearn import svm\n",
    "\n",
    "clf_svm = svm.SVC(kernel=\"linear\")\n",
    "\n",
    "clf_svm.fit(train_x_vectors, train_y.values.ravel())\n",
    "\n",
    "test_review = test_x.iloc[0].values[0]\n",
    "clf_svm_prediction = clf_svm.predict(test_x_vectors[0])\n",
    "\n",
    "print(\"Test Review:\", test_review)\n",
    "print(\"Prediction:\", clf_svm_prediction[0])"
   ]
  },
  {
   "cell_type": "markdown",
   "id": "29237378",
   "metadata": {},
   "source": [
    "#### 4.2. Decision Tree"
   ]
  },
  {
   "cell_type": "code",
   "execution_count": 37,
   "id": "311c8adf",
   "metadata": {},
   "outputs": [
    {
     "name": "stdout",
     "output_type": "stream",
     "text": [
      "Test Review: So glad this installment finally published. Love me some Melody Anne, I'm sad to think that Joseph Anderson May be out of single men to set up!\n",
      "Prediction: CLOTHING\n"
     ]
    }
   ],
   "source": [
    "from sklearn.tree import DecisionTreeClassifier\n",
    "\n",
    "clf_tree = DecisionTreeClassifier()\n",
    "\n",
    "clf_tree.fit(train_x_vectors, train_y.values.ravel())\n",
    "\n",
    "test_review = test_x.iloc[0].values[0]\n",
    "clf_tree_prediction = clf_tree.predict(test_x_vectors[0])\n",
    "\n",
    "print(\"Test Review:\", test_review)\n",
    "print(\"Prediction:\", clf_tree_prediction[0])"
   ]
  },
  {
   "cell_type": "markdown",
   "id": "b28d1145",
   "metadata": {},
   "source": [
    "#### 4.3. Naive Bayes"
   ]
  },
  {
   "cell_type": "code",
   "execution_count": 38,
   "id": "94f9ddbe",
   "metadata": {},
   "outputs": [
    {
     "name": "stdout",
     "output_type": "stream",
     "text": [
      "Test Review: So glad this installment finally published. Love me some Melody Anne, I'm sad to think that Joseph Anderson May be out of single men to set up!\n",
      "Prediction: BOOKS\n"
     ]
    }
   ],
   "source": [
    "from sklearn.naive_bayes import GaussianNB\n",
    "\n",
    "clf_nb = GaussianNB()\n",
    "\n",
    "clf_nb.fit(train_x_vectors.toarray(), train_y.values.ravel())\n",
    "\n",
    "test_review = test_x.iloc[0].values[0]\n",
    "clf_nb_prediction = clf_nb.predict(test_x_vectors[0].toarray())\n",
    "\n",
    "print(\"Test Review:\", test_review)\n",
    "print(\"Prediction:\", clf_nb_prediction[0])"
   ]
  },
  {
   "cell_type": "markdown",
   "id": "6e60dcd5",
   "metadata": {},
   "source": [
    "#### 4.4. Logistic Regression"
   ]
  },
  {
   "cell_type": "code",
   "execution_count": 39,
   "id": "c90940b6",
   "metadata": {
    "scrolled": false
   },
   "outputs": [
    {
     "name": "stdout",
     "output_type": "stream",
     "text": [
      "Test Review: So glad this installment finally published. Love me some Melody Anne, I'm sad to think that Joseph Anderson May be out of single men to set up!\n",
      "Prediction: BOOKS\n"
     ]
    }
   ],
   "source": [
    "from sklearn.linear_model import LogisticRegression\n",
    "\n",
    "clf_log = LogisticRegression(max_iter=1000)\n",
    "\n",
    "clf_log.fit(train_x_vectors, train_y.values.ravel())\n",
    "\n",
    "test_review = test_x.iloc[0].values[0]\n",
    "clf_log_prediction = clf_log.predict(test_x_vectors[0])\n",
    "\n",
    "print(\"Test Review:\", test_review)\n",
    "print(\"Prediction:\", clf_log_prediction[0])"
   ]
  },
  {
   "cell_type": "markdown",
   "id": "f5929381",
   "metadata": {},
   "source": [
    "### 5. Evaluation"
   ]
  },
  {
   "cell_type": "code",
   "execution_count": 40,
   "id": "58bc9284",
   "metadata": {
    "scrolled": true
   },
   "outputs": [
    {
     "data": {
      "text/html": [
       "<div>\n",
       "<style scoped>\n",
       "    .dataframe tbody tr th:only-of-type {\n",
       "        vertical-align: middle;\n",
       "    }\n",
       "\n",
       "    .dataframe tbody tr th {\n",
       "        vertical-align: top;\n",
       "    }\n",
       "\n",
       "    .dataframe thead th {\n",
       "        text-align: right;\n",
       "    }\n",
       "</style>\n",
       "<table border=\"1\" class=\"dataframe\">\n",
       "  <thead>\n",
       "    <tr style=\"text-align: right;\">\n",
       "      <th></th>\n",
       "      <th>Classifier</th>\n",
       "      <th>Accuracy</th>\n",
       "    </tr>\n",
       "  </thead>\n",
       "  <tbody>\n",
       "    <tr>\n",
       "      <th>0</th>\n",
       "      <td>SVM</td>\n",
       "      <td>0.927879</td>\n",
       "    </tr>\n",
       "    <tr>\n",
       "      <th>1</th>\n",
       "      <td>Decision Tree</td>\n",
       "      <td>0.707273</td>\n",
       "    </tr>\n",
       "    <tr>\n",
       "      <th>2</th>\n",
       "      <td>Naive Bayes</td>\n",
       "      <td>0.806667</td>\n",
       "    </tr>\n",
       "    <tr>\n",
       "      <th>3</th>\n",
       "      <td>Logistic Regression</td>\n",
       "      <td>0.920000</td>\n",
       "    </tr>\n",
       "  </tbody>\n",
       "</table>\n",
       "</div>"
      ],
      "text/plain": [
       "            Classifier  Accuracy\n",
       "0                  SVM  0.927879\n",
       "1        Decision Tree  0.707273\n",
       "2          Naive Bayes  0.806667\n",
       "3  Logistic Regression  0.920000"
      ]
     },
     "execution_count": 40,
     "metadata": {},
     "output_type": "execute_result"
    }
   ],
   "source": [
    "accuracies = [\n",
    "    [\"SVM\", clf_svm.score(test_x_vectors, test_y)],\n",
    "    [\"Decision Tree\", clf_tree.score(test_x_vectors, test_y)],\n",
    "    [\"Naive Bayes\", clf_nb.score(test_x_vectors.toarray(), test_y)],\n",
    "    [\"Logistic Regression\", clf_log.score(test_x_vectors, test_y)],\n",
    "]\n",
    "\n",
    "pd.DataFrame(data=accuracies, columns=[\"Classifier\", \"Accuracy\"])"
   ]
  },
  {
   "cell_type": "code",
   "execution_count": 41,
   "id": "aa1b3bfb",
   "metadata": {},
   "outputs": [
    {
     "data": {
      "text/html": [
       "<div>\n",
       "<style scoped>\n",
       "    .dataframe tbody tr th:only-of-type {\n",
       "        vertical-align: middle;\n",
       "    }\n",
       "\n",
       "    .dataframe tbody tr th {\n",
       "        vertical-align: top;\n",
       "    }\n",
       "\n",
       "    .dataframe thead th {\n",
       "        text-align: right;\n",
       "    }\n",
       "</style>\n",
       "<table border=\"1\" class=\"dataframe\">\n",
       "  <thead>\n",
       "    <tr style=\"text-align: right;\">\n",
       "      <th></th>\n",
       "      <th>Classifier</th>\n",
       "      <th>F1(Books)</th>\n",
       "      <th>F1(Clothing)</th>\n",
       "      <th>F1(Electronics)</th>\n",
       "      <th>F1(Grocery)</th>\n",
       "      <th>F1(Patio)</th>\n",
       "    </tr>\n",
       "  </thead>\n",
       "  <tbody>\n",
       "    <tr>\n",
       "      <th>0</th>\n",
       "      <td>SVM</td>\n",
       "      <td>0.979332</td>\n",
       "      <td>0.902680</td>\n",
       "      <td>0.886536</td>\n",
       "      <td>0.952978</td>\n",
       "      <td>0.923077</td>\n",
       "    </tr>\n",
       "    <tr>\n",
       "      <th>1</th>\n",
       "      <td>Decision Tree</td>\n",
       "      <td>0.913386</td>\n",
       "      <td>0.684358</td>\n",
       "      <td>0.572289</td>\n",
       "      <td>0.718028</td>\n",
       "      <td>0.657233</td>\n",
       "    </tr>\n",
       "    <tr>\n",
       "      <th>2</th>\n",
       "      <td>Naive Bayes</td>\n",
       "      <td>0.853968</td>\n",
       "      <td>0.751189</td>\n",
       "      <td>0.796899</td>\n",
       "      <td>0.824675</td>\n",
       "      <td>0.807198</td>\n",
       "    </tr>\n",
       "    <tr>\n",
       "      <th>3</th>\n",
       "      <td>Logistic Regression</td>\n",
       "      <td>0.976153</td>\n",
       "      <td>0.897328</td>\n",
       "      <td>0.882530</td>\n",
       "      <td>0.946372</td>\n",
       "      <td>0.903323</td>\n",
       "    </tr>\n",
       "  </tbody>\n",
       "</table>\n",
       "</div>"
      ],
      "text/plain": [
       "            Classifier  F1(Books)  F1(Clothing)  F1(Electronics)  F1(Grocery)  \\\n",
       "0                  SVM   0.979332      0.902680         0.886536     0.952978   \n",
       "1        Decision Tree   0.913386      0.684358         0.572289     0.718028   \n",
       "2          Naive Bayes   0.853968      0.751189         0.796899     0.824675   \n",
       "3  Logistic Regression   0.976153      0.897328         0.882530     0.946372   \n",
       "\n",
       "   F1(Patio)  \n",
       "0   0.923077  \n",
       "1   0.657233  \n",
       "2   0.807198  \n",
       "3   0.903323  "
      ]
     },
     "execution_count": 41,
     "metadata": {},
     "output_type": "execute_result"
    }
   ],
   "source": [
    "from sklearn.metrics import f1_score\n",
    "\n",
    "f1_svm = f1_score(test_y, clf_svm.predict(test_x_vectors), average=None, labels=labels)\n",
    "f1_tree = f1_score(test_y, clf_tree.predict(test_x_vectors), average=None, labels=labels)\n",
    "f1_nb = f1_score(test_y, clf_nb.predict(test_x_vectors.toarray()), average=None, labels=labels)\n",
    "f1_log = f1_score(test_y, clf_log.predict(test_x_vectors), average=None, labels=labels)\n",
    "\n",
    "f1_scores = [\n",
    "    [\"SVM\", f1_svm[0], f1_svm[1], f1_svm[2], f1_svm[3], f1_svm[4]],\n",
    "    [\"Decision Tree\", f1_tree[0], f1_tree[1], f1_tree[2], f1_tree[3], f1_tree[4]],\n",
    "    [\"Naive Bayes\", f1_nb[0], f1_nb[1], f1_nb[2], f1_nb[3], f1_nb[4]],\n",
    "    [\"Logistic Regression\", f1_log[0], f1_log[1], f1_log[2], f1_log[3], f1_log[4]],\n",
    "]\n",
    "\n",
    "pd.DataFrame(data=f1_scores, columns=[\"Classifier\", \"F1(Books)\", \"F1(Clothing)\", \"F1(Electronics)\", \"F1(Grocery)\", \"F1(Patio)\"])"
   ]
  },
  {
   "cell_type": "code",
   "execution_count": 42,
   "id": "ff787719",
   "metadata": {},
   "outputs": [
    {
     "data": {
      "text/plain": [
       "<AxesSubplot:>"
      ]
     },
     "execution_count": 42,
     "metadata": {},
     "output_type": "execute_result"
    },
    {
     "data": {
      "image/png": "[encoded data removed]",
      "text/plain": [
       "<Figure size 432x288 with 2 Axes>"
      ]
     },
     "metadata": {
      "needs_background": "light"
     },
     "output_type": "display_data"
    }
   ],
   "source": [
    "from sklearn.metrics import confusion_matrix\n",
    "import seaborn as sn\n",
    "import matplotlib as plt\n",
    "\n",
    "predictions = clf_log.predict(test_x_vectors)\n",
    "\n",
    "cm = confusion_matrix(test_y, predictions, labels=labels)\n",
    "df_cm = pd.DataFrame(cm, columns=labels)\n",
    "\n",
    "sn.heatmap(df_cm, annot=True, fmt=\"d\")"
   ]
  },
  {
   "cell_type": "markdown",
   "id": "943e6914",
   "metadata": {},
   "source": [
    "### 6. Improvements"
   ]
  },
  {
   "cell_type": "markdown",
   "id": "35b7c21a",
   "metadata": {},
   "source": [
    "#### 6.1. Check if the number of labels is even"
   ]
  },
  {
   "cell_type": "code",
   "execution_count": 33,
   "id": "4e15ea71",
   "metadata": {
    "scrolled": true
   },
   "outputs": [
    {
     "name": "stdout",
     "output_type": "stream",
     "text": [
      "Label counts in Training Set:\n",
      " category\n",
      "GROCERY        684\n",
      "BOOKS          682\n",
      "ELECTRONICS    669\n",
      "PATIO          661\n",
      "CLOTHING       654\n",
      "dtype: int64 \n",
      "\n",
      "Label counts in Test Set:\n",
      " category\n",
      "CLOTHING       346\n",
      "PATIO          339\n",
      "ELECTRONICS    331\n",
      "BOOKS          318\n",
      "GROCERY        316\n",
      "dtype: int64\n"
     ]
    }
   ],
   "source": [
    "# Count labels in each set\n",
    "train_count = train_y.value_counts(\"category\")\n",
    "test_count = test_y.value_counts(\"category\")\n",
    "\n",
    "print(\"Label counts in Training Set:\\n\", train_count, \"\\n\")\n",
    "print(\"Label counts in Test Set:\\n\", test_count)\n",
    "\n",
    "# Unlike the feedback dataset, the number of examples for each category is relatively even"
   ]
  },
  {
   "cell_type": "markdown",
   "id": "fba15737",
   "metadata": {},
   "source": [
    "#### 6.2. Prioritize certain tokens\n",
    "After running this improvement, run everything from section 4 and 5 to get the new results"
   ]
  },
  {
   "cell_type": "code",
   "execution_count": 35,
   "id": "6ad39d1c",
   "metadata": {},
   "outputs": [],
   "source": [
    "from sklearn.feature_extraction.text import TfidfVectorizer\n",
    "\n",
    "vectorizer = TfidfVectorizer()\n",
    "train_x_vectors = vectorizer.fit_transform(train_x[\"reviewText\"].values.astype('U'))\n",
    "test_x_vectors = vectorizer.transform(test_x[\"reviewText\"].values.astype('U'))"
   ]
  },
  {
   "cell_type": "markdown",
   "id": "6428bb10",
   "metadata": {},
   "source": [
    "#### 6.3. Apply Grid Search\n",
    "After running this improvement, run everything from section 4 and 5 to get the new results"
   ]
  },
  {
   "cell_type": "code",
   "execution_count": 25,
   "id": "1fd1aaf1",
   "metadata": {},
   "outputs": [
    {
     "data": {
      "text/plain": [
       "GridSearchCV(cv=5, estimator=SVC(),\n",
       "             param_grid={'C': (1, 4, 8, 16, 32), 'kernel': ('linear', 'rbf')})"
      ]
     },
     "execution_count": 25,
     "metadata": {},
     "output_type": "execute_result"
    }
   ],
   "source": [
    "from sklearn.model_selection import GridSearchCV\n",
    "\n",
    "parameters = {\n",
    "    \"kernel\": (\"linear\", \"rbf\"),\n",
    "    \"C\": (1,4,8,16,32)\n",
    "}\n",
    "\n",
    "svc = svm.SVC()\n",
    "tuned_clf = GridSearchCV(svc, parameters, cv=5)\n",
    "tuned_clf.fit(train_x_vectors, train_y.values.ravel())"
   ]
  },
  {
   "cell_type": "markdown",
   "id": "3fe8458c",
   "metadata": {},
   "source": [
    "### 7. Testing"
   ]
  },
  {
   "cell_type": "code",
   "execution_count": 49,
   "id": "3aa22a4a",
   "metadata": {},
   "outputs": [
    {
     "data": {
      "text/plain": [
       "array(['BOOKS', 'CLOTHING', 'ELECTRONICS', 'GROCERY', 'PATIO'],\n",
       "      dtype=object)"
      ]
     },
     "execution_count": 49,
     "metadata": {},
     "output_type": "execute_result"
    }
   ],
   "source": [
    "new_examples = [\n",
    "    \"Man, Tolstoi's writing is fantastic\", \n",
    "    \"These jeans are very low quality, would not recommend\", \n",
    "    \"The new Playstation is fantastic\",\n",
    "    \"Gotta love these chips\",\n",
    "    \"Best grill I ever bought\"\n",
    "]\n",
    "\n",
    "vectorized_examples = vectorizer.transform(new_examples)\n",
    "\n",
    "clf_svm.predict(vectorized_examples)"
   ]
  },
  {
   "cell_type": "markdown",
   "id": "185715a3",
   "metadata": {},
   "source": [
    "### 8. Model Persistence"
   ]
  },
  {
   "cell_type": "markdown",
   "id": "4e66d40c",
   "metadata": {},
   "source": [
    "#### 8.1. Saving Model"
   ]
  },
  {
   "cell_type": "code",
   "execution_count": 50,
   "id": "f95fa5c1",
   "metadata": {},
   "outputs": [],
   "source": [
    "import pickle\n",
    "\n",
    "with open(\"./models/category_classifier.pkl\", \"wb\") as f:\n",
    "    pickle.dump(clf_svm, f)"
   ]
  },
  {
   "cell_type": "markdown",
   "id": "3a6d977f",
   "metadata": {},
   "source": [
    "#### 8.2. Loading Model"
   ]
  },
  {
   "cell_type": "code",
   "execution_count": 51,
   "id": "ef8ae3e7",
   "metadata": {},
   "outputs": [],
   "source": [
    "with open(\"./models/category_classifier.pkl\", \"rb\") as f:\n",
    "    loaded_clf = pickle.load(f)"
   ]
  }
 ],
 "metadata": {
  "kernelspec": {
   "display_name": "Python 3",
   "language": "python",
   "name": "python3"
  },
  "language_info": {
   "codemirror_mode": {
    "name": "ipython",
    "version": 3
   },
   "file_extension": ".py",
   "mimetype": "text/x-python",
   "name": "python",
   "nbconvert_exporter": "python",
   "pygments_lexer": "ipython3",
   "version": "3.9.5"
  }
 },
 "nbformat": 4,
 "nbformat_minor": 5
}
