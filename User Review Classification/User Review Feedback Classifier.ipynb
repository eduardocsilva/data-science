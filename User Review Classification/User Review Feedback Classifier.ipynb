{
 "cells": [
  {
   "cell_type": "markdown",
   "id": "961bd0ed",
   "metadata": {},
   "source": [
    "# User Review Feedback Classifier\n",
    "Developed with Scikit-learn, Pandas, etc.\n",
    "\n",
    "Based on the following [tutorial](https://www.youtube.com/watch?v=M9Itm95JzL0), from Keith Galli.\n",
    "\n",
    "Reviews retrieved from the following [Amazon user reviews dataset](https://nijianmo.github.io/amazon/index.html)."
   ]
  },
  {
   "cell_type": "markdown",
   "id": "cb3f63b4",
   "metadata": {},
   "source": [
    "### 1. Load Data"
   ]
  },
  {
   "cell_type": "code",
   "execution_count": 1,
   "id": "ad5ed570",
   "metadata": {},
   "outputs": [
    {
     "data": {
      "text/html": [
       "<div>\n",
       "<style scoped>\n",
       "    .dataframe tbody tr th:only-of-type {\n",
       "        vertical-align: middle;\n",
       "    }\n",
       "\n",
       "    .dataframe tbody tr th {\n",
       "        vertical-align: top;\n",
       "    }\n",
       "\n",
       "    .dataframe thead th {\n",
       "        text-align: right;\n",
       "    }\n",
       "</style>\n",
       "<table border=\"1\" class=\"dataframe\">\n",
       "  <thead>\n",
       "    <tr style=\"text-align: right;\">\n",
       "      <th></th>\n",
       "      <th>overall</th>\n",
       "      <th>verified</th>\n",
       "      <th>reviewTime</th>\n",
       "      <th>reviewerID</th>\n",
       "      <th>asin</th>\n",
       "      <th>style</th>\n",
       "      <th>reviewerName</th>\n",
       "      <th>reviewText</th>\n",
       "      <th>summary</th>\n",
       "      <th>unixReviewTime</th>\n",
       "      <th>vote</th>\n",
       "      <th>image</th>\n",
       "    </tr>\n",
       "  </thead>\n",
       "  <tbody>\n",
       "    <tr>\n",
       "      <th>0</th>\n",
       "      <td>5</td>\n",
       "      <td>True</td>\n",
       "      <td>01 1, 2014</td>\n",
       "      <td>A2JY90TWJY6JUN</td>\n",
       "      <td>0983429405</td>\n",
       "      <td>{'Format:': ' Kindle Edition'}</td>\n",
       "      <td>M. Mander</td>\n",
       "      <td>I am enjoying this informative book and will c...</td>\n",
       "      <td>very useful book</td>\n",
       "      <td>1388534400</td>\n",
       "      <td>NaN</td>\n",
       "      <td>None</td>\n",
       "    </tr>\n",
       "    <tr>\n",
       "      <th>1</th>\n",
       "      <td>5</td>\n",
       "      <td>False</td>\n",
       "      <td>10 1, 2014</td>\n",
       "      <td>A2X9MVOFF593CP</td>\n",
       "      <td>0373773846</td>\n",
       "      <td>{'Format:': ' Kindle Edition'}</td>\n",
       "      <td>Stephanie</td>\n",
       "      <td>For the past several years Garth Duncan has ha...</td>\n",
       "      <td>An Author Who Makes You Root for the Villian!</td>\n",
       "      <td>1412121600</td>\n",
       "      <td>NaN</td>\n",
       "      <td>None</td>\n",
       "    </tr>\n",
       "    <tr>\n",
       "      <th>2</th>\n",
       "      <td>5</td>\n",
       "      <td>True</td>\n",
       "      <td>10 9, 2014</td>\n",
       "      <td>A3BK2NSHZWNB7</td>\n",
       "      <td>1416567178</td>\n",
       "      <td>{'Format:': ' Mass Market Paperback'}</td>\n",
       "      <td>BCS</td>\n",
       "      <td>Great story!</td>\n",
       "      <td>Five Stars</td>\n",
       "      <td>1412812800</td>\n",
       "      <td>NaN</td>\n",
       "      <td>None</td>\n",
       "    </tr>\n",
       "    <tr>\n",
       "      <th>3</th>\n",
       "      <td>5</td>\n",
       "      <td>True</td>\n",
       "      <td>09 8, 2014</td>\n",
       "      <td>A11PTQ33D2V7FO</td>\n",
       "      <td>0891415440</td>\n",
       "      <td>{'Format:': ' Paperback'}</td>\n",
       "      <td>Beverly Cobb</td>\n",
       "      <td>loved his speech at graduation - haven't had a...</td>\n",
       "      <td>loved his speech at graduation - haven't had a...</td>\n",
       "      <td>1410134400</td>\n",
       "      <td>NaN</td>\n",
       "      <td>None</td>\n",
       "    </tr>\n",
       "    <tr>\n",
       "      <th>4</th>\n",
       "      <td>5</td>\n",
       "      <td>True</td>\n",
       "      <td>12 23, 2014</td>\n",
       "      <td>A31U1BI272EHBQ</td>\n",
       "      <td>0230531423</td>\n",
       "      <td>{'Format:': ' Kindle Edition'}</td>\n",
       "      <td>tom</td>\n",
       "      <td>Excellent. Fast moving novel with a lot of twi...</td>\n",
       "      <td>Five Stars</td>\n",
       "      <td>1419292800</td>\n",
       "      <td>NaN</td>\n",
       "      <td>None</td>\n",
       "    </tr>\n",
       "    <tr>\n",
       "      <th>...</th>\n",
       "      <td>...</td>\n",
       "      <td>...</td>\n",
       "      <td>...</td>\n",
       "      <td>...</td>\n",
       "      <td>...</td>\n",
       "      <td>...</td>\n",
       "      <td>...</td>\n",
       "      <td>...</td>\n",
       "      <td>...</td>\n",
       "      <td>...</td>\n",
       "      <td>...</td>\n",
       "      <td>...</td>\n",
       "    </tr>\n",
       "    <tr>\n",
       "      <th>24995</th>\n",
       "      <td>4</td>\n",
       "      <td>True</td>\n",
       "      <td>08 9, 2014</td>\n",
       "      <td>A3A7DII49DAMF</td>\n",
       "      <td>0143127500</td>\n",
       "      <td>{'Format:': ' Kindle Edition'}</td>\n",
       "      <td>Larry Hoffer</td>\n",
       "      <td>I first stumbled onto Jojo Moyes last year, wh...</td>\n",
       "      <td>Sweet, endearing, and fun...</td>\n",
       "      <td>1407542400</td>\n",
       "      <td>3.0</td>\n",
       "      <td>None</td>\n",
       "    </tr>\n",
       "    <tr>\n",
       "      <th>24996</th>\n",
       "      <td>5</td>\n",
       "      <td>False</td>\n",
       "      <td>03 3, 2014</td>\n",
       "      <td>A2BRDQ1M7U95YL</td>\n",
       "      <td>1781852367</td>\n",
       "      <td>{'Format:': ' Kindle Edition'}</td>\n",
       "      <td>Island River Scribe</td>\n",
       "      <td>NOW  Donovan Creed and his girlfriend, Rachel,...</td>\n",
       "      <td>The Power To Ease Pain</td>\n",
       "      <td>1393804800</td>\n",
       "      <td>NaN</td>\n",
       "      <td>None</td>\n",
       "    </tr>\n",
       "    <tr>\n",
       "      <th>24997</th>\n",
       "      <td>5</td>\n",
       "      <td>False</td>\n",
       "      <td>08 21, 2014</td>\n",
       "      <td>A2VPOGO3FBIPXP</td>\n",
       "      <td>0312556179</td>\n",
       "      <td>{'Format:': ' Paperback'}</td>\n",
       "      <td>tmj</td>\n",
       "      <td>Great!</td>\n",
       "      <td>Five Stars</td>\n",
       "      <td>1408579200</td>\n",
       "      <td>NaN</td>\n",
       "      <td>None</td>\n",
       "    </tr>\n",
       "    <tr>\n",
       "      <th>24998</th>\n",
       "      <td>4</td>\n",
       "      <td>True</td>\n",
       "      <td>12 9, 2014</td>\n",
       "      <td>A19SGYGWXMBBOH</td>\n",
       "      <td>080543092X</td>\n",
       "      <td>{'Format:': ' Paperback'}</td>\n",
       "      <td>Howard</td>\n",
       "      <td>Excellent</td>\n",
       "      <td>Four Stars</td>\n",
       "      <td>1418083200</td>\n",
       "      <td>NaN</td>\n",
       "      <td>None</td>\n",
       "    </tr>\n",
       "    <tr>\n",
       "      <th>24999</th>\n",
       "      <td>5</td>\n",
       "      <td>True</td>\n",
       "      <td>03 17, 2014</td>\n",
       "      <td>A32PCAGISTCPX0</td>\n",
       "      <td>0425252868</td>\n",
       "      <td>{'Format:': ' Kindle Edition'}</td>\n",
       "      <td>James S</td>\n",
       "      <td>Thanks to meticulous research, the book reads ...</td>\n",
       "      <td>This is a very good read</td>\n",
       "      <td>1395014400</td>\n",
       "      <td>NaN</td>\n",
       "      <td>None</td>\n",
       "    </tr>\n",
       "  </tbody>\n",
       "</table>\n",
       "<p>25000 rows × 12 columns</p>\n",
       "</div>"
      ],
      "text/plain": [
       "       overall  verified   reviewTime      reviewerID        asin  \\\n",
       "0            5      True   01 1, 2014  A2JY90TWJY6JUN  0983429405   \n",
       "1            5     False   10 1, 2014  A2X9MVOFF593CP  0373773846   \n",
       "2            5      True   10 9, 2014   A3BK2NSHZWNB7  1416567178   \n",
       "3            5      True   09 8, 2014  A11PTQ33D2V7FO  0891415440   \n",
       "4            5      True  12 23, 2014  A31U1BI272EHBQ  0230531423   \n",
       "...        ...       ...          ...             ...         ...   \n",
       "24995        4      True   08 9, 2014   A3A7DII49DAMF  0143127500   \n",
       "24996        5     False   03 3, 2014  A2BRDQ1M7U95YL  1781852367   \n",
       "24997        5     False  08 21, 2014  A2VPOGO3FBIPXP  0312556179   \n",
       "24998        4      True   12 9, 2014  A19SGYGWXMBBOH  080543092X   \n",
       "24999        5      True  03 17, 2014  A32PCAGISTCPX0  0425252868   \n",
       "\n",
       "                                       style         reviewerName  \\\n",
       "0             {'Format:': ' Kindle Edition'}            M. Mander   \n",
       "1             {'Format:': ' Kindle Edition'}            Stephanie   \n",
       "2      {'Format:': ' Mass Market Paperback'}                  BCS   \n",
       "3                  {'Format:': ' Paperback'}         Beverly Cobb   \n",
       "4             {'Format:': ' Kindle Edition'}                  tom   \n",
       "...                                      ...                  ...   \n",
       "24995         {'Format:': ' Kindle Edition'}         Larry Hoffer   \n",
       "24996         {'Format:': ' Kindle Edition'}  Island River Scribe   \n",
       "24997              {'Format:': ' Paperback'}                  tmj   \n",
       "24998              {'Format:': ' Paperback'}               Howard   \n",
       "24999         {'Format:': ' Kindle Edition'}              James S   \n",
       "\n",
       "                                              reviewText  \\\n",
       "0      I am enjoying this informative book and will c...   \n",
       "1      For the past several years Garth Duncan has ha...   \n",
       "2                                           Great story!   \n",
       "3      loved his speech at graduation - haven't had a...   \n",
       "4      Excellent. Fast moving novel with a lot of twi...   \n",
       "...                                                  ...   \n",
       "24995  I first stumbled onto Jojo Moyes last year, wh...   \n",
       "24996  NOW  Donovan Creed and his girlfriend, Rachel,...   \n",
       "24997                                             Great!   \n",
       "24998                                          Excellent   \n",
       "24999  Thanks to meticulous research, the book reads ...   \n",
       "\n",
       "                                                 summary  unixReviewTime  \\\n",
       "0                                       very useful book      1388534400   \n",
       "1          An Author Who Makes You Root for the Villian!      1412121600   \n",
       "2                                             Five Stars      1412812800   \n",
       "3      loved his speech at graduation - haven't had a...      1410134400   \n",
       "4                                             Five Stars      1419292800   \n",
       "...                                                  ...             ...   \n",
       "24995                       Sweet, endearing, and fun...      1407542400   \n",
       "24996                             The Power To Ease Pain      1393804800   \n",
       "24997                                         Five Stars      1408579200   \n",
       "24998                                         Four Stars      1418083200   \n",
       "24999                           This is a very good read      1395014400   \n",
       "\n",
       "       vote image  \n",
       "0       NaN  None  \n",
       "1       NaN  None  \n",
       "2       NaN  None  \n",
       "3       NaN  None  \n",
       "4       NaN  None  \n",
       "...     ...   ...  \n",
       "24995   3.0  None  \n",
       "24996   NaN  None  \n",
       "24997   NaN  None  \n",
       "24998   NaN  None  \n",
       "24999   NaN  None  \n",
       "\n",
       "[25000 rows x 12 columns]"
      ]
     },
     "execution_count": 1,
     "metadata": {},
     "output_type": "execute_result"
    }
   ],
   "source": [
    "import pandas as pd\n",
    "import numpy as np\n",
    "\n",
    "# Load raw data\n",
    "raw_df = pd.read_json(\"./data/feedback/Reviews_25k.json\")\n",
    "raw_df"
   ]
  },
  {
   "cell_type": "code",
   "execution_count": 2,
   "id": "f6a45510",
   "metadata": {},
   "outputs": [
    {
     "data": {
      "text/html": [
       "<div>\n",
       "<style scoped>\n",
       "    .dataframe tbody tr th:only-of-type {\n",
       "        vertical-align: middle;\n",
       "    }\n",
       "\n",
       "    .dataframe tbody tr th {\n",
       "        vertical-align: top;\n",
       "    }\n",
       "\n",
       "    .dataframe thead th {\n",
       "        text-align: right;\n",
       "    }\n",
       "</style>\n",
       "<table border=\"1\" class=\"dataframe\">\n",
       "  <thead>\n",
       "    <tr style=\"text-align: right;\">\n",
       "      <th></th>\n",
       "      <th>reviewText</th>\n",
       "      <th>overall</th>\n",
       "    </tr>\n",
       "  </thead>\n",
       "  <tbody>\n",
       "    <tr>\n",
       "      <th>0</th>\n",
       "      <td>I am enjoying this informative book and will c...</td>\n",
       "      <td>5</td>\n",
       "    </tr>\n",
       "    <tr>\n",
       "      <th>1</th>\n",
       "      <td>For the past several years Garth Duncan has ha...</td>\n",
       "      <td>5</td>\n",
       "    </tr>\n",
       "    <tr>\n",
       "      <th>2</th>\n",
       "      <td>Great story!</td>\n",
       "      <td>5</td>\n",
       "    </tr>\n",
       "    <tr>\n",
       "      <th>3</th>\n",
       "      <td>loved his speech at graduation - haven't had a...</td>\n",
       "      <td>5</td>\n",
       "    </tr>\n",
       "    <tr>\n",
       "      <th>4</th>\n",
       "      <td>Excellent. Fast moving novel with a lot of twi...</td>\n",
       "      <td>5</td>\n",
       "    </tr>\n",
       "    <tr>\n",
       "      <th>...</th>\n",
       "      <td>...</td>\n",
       "      <td>...</td>\n",
       "    </tr>\n",
       "    <tr>\n",
       "      <th>24995</th>\n",
       "      <td>I first stumbled onto Jojo Moyes last year, wh...</td>\n",
       "      <td>4</td>\n",
       "    </tr>\n",
       "    <tr>\n",
       "      <th>24996</th>\n",
       "      <td>NOW  Donovan Creed and his girlfriend, Rachel,...</td>\n",
       "      <td>5</td>\n",
       "    </tr>\n",
       "    <tr>\n",
       "      <th>24997</th>\n",
       "      <td>Great!</td>\n",
       "      <td>5</td>\n",
       "    </tr>\n",
       "    <tr>\n",
       "      <th>24998</th>\n",
       "      <td>Excellent</td>\n",
       "      <td>4</td>\n",
       "    </tr>\n",
       "    <tr>\n",
       "      <th>24999</th>\n",
       "      <td>Thanks to meticulous research, the book reads ...</td>\n",
       "      <td>5</td>\n",
       "    </tr>\n",
       "  </tbody>\n",
       "</table>\n",
       "<p>25000 rows × 2 columns</p>\n",
       "</div>"
      ],
      "text/plain": [
       "                                              reviewText  overall\n",
       "0      I am enjoying this informative book and will c...        5\n",
       "1      For the past several years Garth Duncan has ha...        5\n",
       "2                                           Great story!        5\n",
       "3      loved his speech at graduation - haven't had a...        5\n",
       "4      Excellent. Fast moving novel with a lot of twi...        5\n",
       "...                                                  ...      ...\n",
       "24995  I first stumbled onto Jojo Moyes last year, wh...        4\n",
       "24996  NOW  Donovan Creed and his girlfriend, Rachel,...        5\n",
       "24997                                             Great!        5\n",
       "24998                                          Excellent        4\n",
       "24999  Thanks to meticulous research, the book reads ...        5\n",
       "\n",
       "[25000 rows x 2 columns]"
      ]
     },
     "execution_count": 2,
     "metadata": {},
     "output_type": "execute_result"
    }
   ],
   "source": [
    "# Filter necessary columns\n",
    "df = raw_df[[\"reviewText\", \"overall\"]]\n",
    "df"
   ]
  },
  {
   "cell_type": "markdown",
   "id": "4de7188b",
   "metadata": {},
   "source": [
    "### 2. Prepare Data"
   ]
  },
  {
   "cell_type": "code",
   "execution_count": 7,
   "id": "a331aedf",
   "metadata": {
    "scrolled": false
   },
   "outputs": [
    {
     "data": {
      "text/html": [
       "<div>\n",
       "<style scoped>\n",
       "    .dataframe tbody tr th:only-of-type {\n",
       "        vertical-align: middle;\n",
       "    }\n",
       "\n",
       "    .dataframe tbody tr th {\n",
       "        vertical-align: top;\n",
       "    }\n",
       "\n",
       "    .dataframe thead th {\n",
       "        text-align: right;\n",
       "    }\n",
       "</style>\n",
       "<table border=\"1\" class=\"dataframe\">\n",
       "  <thead>\n",
       "    <tr style=\"text-align: right;\">\n",
       "      <th></th>\n",
       "      <th>reviewText</th>\n",
       "      <th>overall</th>\n",
       "      <th>feedback</th>\n",
       "    </tr>\n",
       "  </thead>\n",
       "  <tbody>\n",
       "    <tr>\n",
       "      <th>0</th>\n",
       "      <td>I am enjoying this informative book and will c...</td>\n",
       "      <td>5</td>\n",
       "      <td>POSITIVE</td>\n",
       "    </tr>\n",
       "    <tr>\n",
       "      <th>1</th>\n",
       "      <td>For the past several years Garth Duncan has ha...</td>\n",
       "      <td>5</td>\n",
       "      <td>POSITIVE</td>\n",
       "    </tr>\n",
       "    <tr>\n",
       "      <th>2</th>\n",
       "      <td>Great story!</td>\n",
       "      <td>5</td>\n",
       "      <td>POSITIVE</td>\n",
       "    </tr>\n",
       "    <tr>\n",
       "      <th>3</th>\n",
       "      <td>loved his speech at graduation - haven't had a...</td>\n",
       "      <td>5</td>\n",
       "      <td>POSITIVE</td>\n",
       "    </tr>\n",
       "    <tr>\n",
       "      <th>4</th>\n",
       "      <td>Excellent. Fast moving novel with a lot of twi...</td>\n",
       "      <td>5</td>\n",
       "      <td>POSITIVE</td>\n",
       "    </tr>\n",
       "    <tr>\n",
       "      <th>...</th>\n",
       "      <td>...</td>\n",
       "      <td>...</td>\n",
       "      <td>...</td>\n",
       "    </tr>\n",
       "    <tr>\n",
       "      <th>24995</th>\n",
       "      <td>I first stumbled onto Jojo Moyes last year, wh...</td>\n",
       "      <td>4</td>\n",
       "      <td>POSITIVE</td>\n",
       "    </tr>\n",
       "    <tr>\n",
       "      <th>24996</th>\n",
       "      <td>NOW  Donovan Creed and his girlfriend, Rachel,...</td>\n",
       "      <td>5</td>\n",
       "      <td>POSITIVE</td>\n",
       "    </tr>\n",
       "    <tr>\n",
       "      <th>24997</th>\n",
       "      <td>Great!</td>\n",
       "      <td>5</td>\n",
       "      <td>POSITIVE</td>\n",
       "    </tr>\n",
       "    <tr>\n",
       "      <th>24998</th>\n",
       "      <td>Excellent</td>\n",
       "      <td>4</td>\n",
       "      <td>POSITIVE</td>\n",
       "    </tr>\n",
       "    <tr>\n",
       "      <th>24999</th>\n",
       "      <td>Thanks to meticulous research, the book reads ...</td>\n",
       "      <td>5</td>\n",
       "      <td>POSITIVE</td>\n",
       "    </tr>\n",
       "  </tbody>\n",
       "</table>\n",
       "<p>25000 rows × 3 columns</p>\n",
       "</div>"
      ],
      "text/plain": [
       "                                              reviewText  overall  feedback\n",
       "0      I am enjoying this informative book and will c...        5  POSITIVE\n",
       "1      For the past several years Garth Duncan has ha...        5  POSITIVE\n",
       "2                                           Great story!        5  POSITIVE\n",
       "3      loved his speech at graduation - haven't had a...        5  POSITIVE\n",
       "4      Excellent. Fast moving novel with a lot of twi...        5  POSITIVE\n",
       "...                                                  ...      ...       ...\n",
       "24995  I first stumbled onto Jojo Moyes last year, wh...        4  POSITIVE\n",
       "24996  NOW  Donovan Creed and his girlfriend, Rachel,...        5  POSITIVE\n",
       "24997                                             Great!        5  POSITIVE\n",
       "24998                                          Excellent        4  POSITIVE\n",
       "24999  Thanks to meticulous research, the book reads ...        5  POSITIVE\n",
       "\n",
       "[25000 rows x 3 columns]"
      ]
     },
     "execution_count": 7,
     "metadata": {},
     "output_type": "execute_result"
    }
   ],
   "source": [
    "# Add feedback classification column\n",
    "pd.options.mode.chained_assignment = None # Hide warning\n",
    "\n",
    "conditions = [\n",
    "    df[\"overall\"] <= 2,\n",
    "    df[\"overall\"] == 3,\n",
    "    df[\"overall\"] >= 4\n",
    "]\n",
    "\n",
    "classes = [\n",
    "    \"NEGATIVE\",\n",
    "    \"NEUTRAL\",\n",
    "    \"POSITIVE\"\n",
    "]\n",
    "\n",
    "df[\"feedback\"] = np.select(conditions, classes)\n",
    "df"
   ]
  },
  {
   "cell_type": "code",
   "execution_count": 8,
   "id": "65cddae8",
   "metadata": {},
   "outputs": [
    {
     "name": "stdout",
     "output_type": "stream",
     "text": [
      "Training Set Length: 16750\n",
      "Test Set Length: 8250\n"
     ]
    }
   ],
   "source": [
    "# Split data into training and test set\n",
    "from sklearn.model_selection import train_test_split\n",
    "\n",
    "split_seed = 10\n",
    "train, test = train_test_split(df, test_size=0.33, random_state=split_seed)\n",
    "\n",
    "print(\"Training Set Length:\", len(train))\n",
    "print(\"Test Set Length:\", len(test))"
   ]
  },
  {
   "cell_type": "code",
   "execution_count": 9,
   "id": "e3010358",
   "metadata": {},
   "outputs": [],
   "source": [
    "# Seperate features from labels\n",
    "train_x = train[[\"reviewText\"]]\n",
    "train_y = train[[\"feedback\"]]\n",
    "\n",
    "test_x = test[[\"reviewText\"]]\n",
    "test_y = test[[\"feedback\"]]"
   ]
  },
  {
   "cell_type": "markdown",
   "id": "6e86cc61",
   "metadata": {},
   "source": [
    "### 3. Text Vectorization"
   ]
  },
  {
   "cell_type": "code",
   "execution_count": 10,
   "id": "63bcff7d",
   "metadata": {
    "scrolled": false
   },
   "outputs": [],
   "source": [
    "# Tokenize text into bags of words\n",
    "from sklearn.feature_extraction.text import CountVectorizer\n",
    "\n",
    "vectorizer = CountVectorizer()\n",
    "train_x_vectors = vectorizer.fit_transform(train_x[\"reviewText\"].values.astype('U'))\n",
    "test_x_vectors = vectorizer.transform(test_x[\"reviewText\"].values.astype('U'))"
   ]
  },
  {
   "cell_type": "markdown",
   "id": "61757d3a",
   "metadata": {},
   "source": [
    "### 4. Training"
   ]
  },
  {
   "cell_type": "markdown",
   "id": "5668d742",
   "metadata": {},
   "source": [
    "#### 4.1. Linear SVM"
   ]
  },
  {
   "cell_type": "code",
   "execution_count": 14,
   "id": "c75a6bc1",
   "metadata": {},
   "outputs": [
    {
     "name": "stdout",
     "output_type": "stream",
     "text": [
      "Test Review: Thought it would be general rather than specific as to Porter's part  and his bias. But was interesting and well written.\n",
      "Prediction: NEUTRAL\n"
     ]
    }
   ],
   "source": [
    "from sklearn import svm\n",
    "\n",
    "clf_svm = svm.SVC(kernel=\"linear\")\n",
    "\n",
    "clf_svm.fit(train_x_vectors, train_y.values.ravel())\n",
    "\n",
    "test_review = test_x.iloc[0].values[0]\n",
    "clf_svm_prediction = clf_svm.predict(test_x_vectors[0])\n",
    "\n",
    "print(\"Test Review:\", test_review)\n",
    "print(\"Prediction:\", clf_svm_prediction[0])"
   ]
  },
  {
   "cell_type": "markdown",
   "id": "29237378",
   "metadata": {},
   "source": [
    "#### 4.2. Decision Tree"
   ]
  },
  {
   "cell_type": "code",
   "execution_count": 15,
   "id": "311c8adf",
   "metadata": {},
   "outputs": [
    {
     "name": "stdout",
     "output_type": "stream",
     "text": [
      "Test Review: Thought it would be general rather than specific as to Porter's part  and his bias. But was interesting and well written.\n",
      "Prediction: NEUTRAL\n"
     ]
    }
   ],
   "source": [
    "from sklearn.tree import DecisionTreeClassifier\n",
    "\n",
    "clf_tree = DecisionTreeClassifier()\n",
    "\n",
    "clf_tree.fit(train_x_vectors, train_y.values.ravel())\n",
    "\n",
    "test_review = test_x.iloc[0].values[0]\n",
    "clf_tree_prediction = clf_tree.predict(test_x_vectors[0])\n",
    "\n",
    "print(\"Test Review:\", test_review)\n",
    "print(\"Prediction:\", clf_tree_prediction[0])"
   ]
  },
  {
   "cell_type": "markdown",
   "id": "b28d1145",
   "metadata": {},
   "source": [
    "#### 4.3. Naive Bayes"
   ]
  },
  {
   "cell_type": "code",
   "execution_count": 16,
   "id": "94f9ddbe",
   "metadata": {},
   "outputs": [
    {
     "name": "stdout",
     "output_type": "stream",
     "text": [
      "Test Review: Thought it would be general rather than specific as to Porter's part  and his bias. But was interesting and well written.\n",
      "Prediction: NEGATIVE\n"
     ]
    }
   ],
   "source": [
    "from sklearn.naive_bayes import GaussianNB\n",
    "\n",
    "clf_nb = GaussianNB()\n",
    "\n",
    "clf_nb.fit(train_x_vectors.toarray(), train_y.values.ravel())\n",
    "\n",
    "test_review = test_x.iloc[0].values[0]\n",
    "clf_nb_prediction = clf_nb.predict(test_x_vectors[0].toarray())\n",
    "\n",
    "print(\"Test Review:\", test_review)\n",
    "print(\"Prediction:\", clf_nb_prediction[0])"
   ]
  },
  {
   "cell_type": "markdown",
   "id": "6e60dcd5",
   "metadata": {},
   "source": [
    "#### 4.4. Logistic Regression"
   ]
  },
  {
   "cell_type": "code",
   "execution_count": 17,
   "id": "c90940b6",
   "metadata": {
    "scrolled": false
   },
   "outputs": [
    {
     "name": "stdout",
     "output_type": "stream",
     "text": [
      "Test Review: Thought it would be general rather than specific as to Porter's part  and his bias. But was interesting and well written.\n",
      "Prediction: NEUTRAL\n"
     ]
    }
   ],
   "source": [
    "from sklearn.linear_model import LogisticRegression\n",
    "\n",
    "clf_log = LogisticRegression(max_iter=1000)\n",
    "\n",
    "clf_log.fit(train_x_vectors, train_y.values.ravel())\n",
    "\n",
    "test_review = test_x.iloc[0].values[0]\n",
    "clf_log_prediction = clf_log.predict(test_x_vectors[0])\n",
    "\n",
    "print(\"Test Review:\", test_review)\n",
    "print(\"Prediction:\", clf_log_prediction[0])"
   ]
  },
  {
   "cell_type": "markdown",
   "id": "f5929381",
   "metadata": {},
   "source": [
    "### 5. Evaluation"
   ]
  },
  {
   "cell_type": "code",
   "execution_count": 18,
   "id": "58bc9284",
   "metadata": {
    "scrolled": true
   },
   "outputs": [
    {
     "data": {
      "text/html": [
       "<div>\n",
       "<style scoped>\n",
       "    .dataframe tbody tr th:only-of-type {\n",
       "        vertical-align: middle;\n",
       "    }\n",
       "\n",
       "    .dataframe tbody tr th {\n",
       "        vertical-align: top;\n",
       "    }\n",
       "\n",
       "    .dataframe thead th {\n",
       "        text-align: right;\n",
       "    }\n",
       "</style>\n",
       "<table border=\"1\" class=\"dataframe\">\n",
       "  <thead>\n",
       "    <tr style=\"text-align: right;\">\n",
       "      <th></th>\n",
       "      <th>Classifier</th>\n",
       "      <th>Accuracy</th>\n",
       "    </tr>\n",
       "  </thead>\n",
       "  <tbody>\n",
       "    <tr>\n",
       "      <th>0</th>\n",
       "      <td>SVM</td>\n",
       "      <td>0.639847</td>\n",
       "    </tr>\n",
       "    <tr>\n",
       "      <th>1</th>\n",
       "      <td>Decision Tree</td>\n",
       "      <td>0.481481</td>\n",
       "    </tr>\n",
       "    <tr>\n",
       "      <th>2</th>\n",
       "      <td>Naive Bayes</td>\n",
       "      <td>0.420817</td>\n",
       "    </tr>\n",
       "    <tr>\n",
       "      <th>3</th>\n",
       "      <td>Logistic Regression</td>\n",
       "      <td>0.658365</td>\n",
       "    </tr>\n",
       "  </tbody>\n",
       "</table>\n",
       "</div>"
      ],
      "text/plain": [
       "            Classifier  Accuracy\n",
       "0                  SVM  0.639847\n",
       "1        Decision Tree  0.481481\n",
       "2          Naive Bayes  0.420817\n",
       "3  Logistic Regression  0.658365"
      ]
     },
     "execution_count": 18,
     "metadata": {},
     "output_type": "execute_result"
    }
   ],
   "source": [
    "accuracies = [\n",
    "    [\"SVM\", clf_svm.score(test_x_vectors, test_y)],\n",
    "    [\"Decision Tree\", clf_tree.score(test_x_vectors, test_y)],\n",
    "    [\"Naive Bayes\", clf_nb.score(test_x_vectors.toarray(), test_y)],\n",
    "    [\"Logistic Regression\", clf_log.score(test_x_vectors, test_y)],\n",
    "]\n",
    "\n",
    "pd.DataFrame(data=accuracies, columns=[\"Classifier\", \"Accuracy\"])"
   ]
  },
  {
   "cell_type": "code",
   "execution_count": 19,
   "id": "aa1b3bfb",
   "metadata": {},
   "outputs": [
    {
     "data": {
      "text/html": [
       "<div>\n",
       "<style scoped>\n",
       "    .dataframe tbody tr th:only-of-type {\n",
       "        vertical-align: middle;\n",
       "    }\n",
       "\n",
       "    .dataframe tbody tr th {\n",
       "        vertical-align: top;\n",
       "    }\n",
       "\n",
       "    .dataframe thead th {\n",
       "        text-align: right;\n",
       "    }\n",
       "</style>\n",
       "<table border=\"1\" class=\"dataframe\">\n",
       "  <thead>\n",
       "    <tr style=\"text-align: right;\">\n",
       "      <th></th>\n",
       "      <th>Classifier</th>\n",
       "      <th>F1(Negatives)</th>\n",
       "      <th>F1(Neutrals)</th>\n",
       "      <th>F1(Positives)</th>\n",
       "    </tr>\n",
       "  </thead>\n",
       "  <tbody>\n",
       "    <tr>\n",
       "      <th>0</th>\n",
       "      <td>SVM</td>\n",
       "      <td>0.646245</td>\n",
       "      <td>0.539033</td>\n",
       "      <td>0.737548</td>\n",
       "    </tr>\n",
       "    <tr>\n",
       "      <th>1</th>\n",
       "      <td>Decision Tree</td>\n",
       "      <td>0.467681</td>\n",
       "      <td>0.427203</td>\n",
       "      <td>0.550193</td>\n",
       "    </tr>\n",
       "    <tr>\n",
       "      <th>2</th>\n",
       "      <td>Naive Bayes</td>\n",
       "      <td>0.409990</td>\n",
       "      <td>0.368627</td>\n",
       "      <td>0.476108</td>\n",
       "    </tr>\n",
       "    <tr>\n",
       "      <th>3</th>\n",
       "      <td>Logistic Regression</td>\n",
       "      <td>0.668639</td>\n",
       "      <td>0.558852</td>\n",
       "      <td>0.745573</td>\n",
       "    </tr>\n",
       "  </tbody>\n",
       "</table>\n",
       "</div>"
      ],
      "text/plain": [
       "            Classifier  F1(Negatives)  F1(Neutrals)  F1(Positives)\n",
       "0                  SVM       0.646245      0.539033       0.737548\n",
       "1        Decision Tree       0.467681      0.427203       0.550193\n",
       "2          Naive Bayes       0.409990      0.368627       0.476108\n",
       "3  Logistic Regression       0.668639      0.558852       0.745573"
      ]
     },
     "execution_count": 19,
     "metadata": {},
     "output_type": "execute_result"
    }
   ],
   "source": [
    "from sklearn.metrics import f1_score\n",
    "\n",
    "f1_svm = f1_score(test_y, clf_svm.predict(test_x_vectors), average=None, labels=[\"NEGATIVE\", \"NEUTRAL\", \"POSITIVE\"])\n",
    "f1_tree = f1_score(test_y, clf_tree.predict(test_x_vectors), average=None, labels=[\"NEGATIVE\", \"NEUTRAL\", \"POSITIVE\"])\n",
    "f1_nb = f1_score(test_y, clf_nb.predict(test_x_vectors.toarray()), average=None, labels=[\"NEGATIVE\", \"NEUTRAL\", \"POSITIVE\"])\n",
    "f1_log = f1_score(test_y, clf_log.predict(test_x_vectors), average=None, labels=[\"NEGATIVE\", \"NEUTRAL\", \"POSITIVE\"])\n",
    "\n",
    "f1_scores = [\n",
    "    [\"SVM\", f1_svm[0], f1_svm[1], f1_svm[2]],\n",
    "    [\"Decision Tree\", f1_tree[0], f1_tree[1], f1_tree[2]],\n",
    "    [\"Naive Bayes\", f1_nb[0], f1_nb[1], f1_nb[2]],\n",
    "    [\"Logistic Regression\", f1_log[0], f1_log[1], f1_log[2]],\n",
    "]\n",
    "\n",
    "pd.DataFrame(data=f1_scores, columns=[\"Classifier\", \"F1(Negatives)\", \"F1(Neutrals)\", \"F1(Positives)\"])"
   ]
  },
  {
   "cell_type": "code",
   "execution_count": 20,
   "id": "ff787719",
   "metadata": {},
   "outputs": [
    {
     "data": {
      "text/plain": [
       "<AxesSubplot:>"
      ]
     },
     "execution_count": 20,
     "metadata": {},
     "output_type": "execute_result"
    },
    {
     "data": {
      "image/png": "[encoded data removed]",
      "text/plain": [
       "<Figure size 432x288 with 2 Axes>"
      ]
     },
     "metadata": {
      "needs_background": "light"
     },
     "output_type": "display_data"
    }
   ],
   "source": [
    "from sklearn.metrics import confusion_matrix\n",
    "import seaborn as sn\n",
    "import matplotlib as plt\n",
    "\n",
    "predictions = clf_log.predict(test_x_vectors)\n",
    "\n",
    "labels = [\"NEGATIVE\", \"NEUTRAL\", \"POSITIVE\"]\n",
    "\n",
    "cm = confusion_matrix(test_y, predictions, labels=labels)\n",
    "df_cm = pd.DataFrame(cm, columns=labels)\n",
    "\n",
    "sn.heatmap(df_cm, annot=True, fmt=\"d\")"
   ]
  },
  {
   "cell_type": "markdown",
   "id": "943e6914",
   "metadata": {},
   "source": [
    "### 6. Improvements"
   ]
  },
  {
   "cell_type": "markdown",
   "id": "35b7c21a",
   "metadata": {},
   "source": [
    "#### 6.1. Even the number of labels\n",
    "After running this improvement, run everything from section 3 to 5 to get the new results"
   ]
  },
  {
   "cell_type": "code",
   "execution_count": 11,
   "id": "4e15ea71",
   "metadata": {
    "scrolled": true
   },
   "outputs": [
    {
     "name": "stdout",
     "output_type": "stream",
     "text": [
      "Label counts in Training Set:\n",
      " feedback\n",
      "POSITIVE    14192\n",
      "NEUTRAL      1536\n",
      "NEGATIVE     1022\n",
      "dtype: int64 \n",
      "\n",
      "Label counts in Test Set:\n",
      " feedback\n",
      "POSITIVE    7019\n",
      "NEUTRAL      709\n",
      "NEGATIVE     522\n",
      "dtype: int64\n"
     ]
    }
   ],
   "source": [
    "# Count labels in each set\n",
    "train_count = train_y.value_counts(\"feedback\")\n",
    "test_count = test_y.value_counts(\"feedback\")\n",
    "\n",
    "print(\"Label counts in Training Set:\\n\", train_count, \"\\n\")\n",
    "print(\"Label counts in Test Set:\\n\", test_count)"
   ]
  },
  {
   "cell_type": "code",
   "execution_count": 12,
   "id": "d1477a58",
   "metadata": {},
   "outputs": [],
   "source": [
    "# Clearly, there's way too many positive reviews. Let's even it out\n",
    "def even_labels(df):\n",
    "    positives = df[df[\"feedback\"] == \"POSITIVE\"]\n",
    "    neutrals = df[df[\"feedback\"] == \"NEUTRAL\"]\n",
    "    negatives = df[df[\"feedback\"] == \"NEGATIVE\"]\n",
    "\n",
    "    count_negatives = df.value_counts(\"feedback\")[2]\n",
    "    positives = positives[:count_negatives]\n",
    "    neutrals = neutrals[:count_negatives]\n",
    "    \n",
    "    shrunk_df = positives.append(neutrals).append(negatives)\n",
    "    \n",
    "    shuffled_df = shrunk_df.sample(frac=1).reset_index(drop=True)\n",
    "    \n",
    "    return shuffled_df[[\"reviewText\"]], shuffled_df[[\"feedback\"]]\n",
    "\n",
    "# The new training and test sets are ready for training\n",
    "train_x, train_y = even_labels(train)\n",
    "test_x, test_y = even_labels(test)"
   ]
  },
  {
   "cell_type": "markdown",
   "id": "fba15737",
   "metadata": {},
   "source": [
    "#### 6.2. Prioritize certain tokens\n",
    "After running this improvement, run everything from section 4 and 5 to get the new results"
   ]
  },
  {
   "cell_type": "code",
   "execution_count": 13,
   "id": "6ad39d1c",
   "metadata": {},
   "outputs": [],
   "source": [
    "from sklearn.feature_extraction.text import TfidfVectorizer\n",
    "\n",
    "vectorizer = TfidfVectorizer()\n",
    "train_x_vectors = vectorizer.fit_transform(train_x[\"reviewText\"].values.astype('U'))\n",
    "test_x_vectors = vectorizer.transform(test_x[\"reviewText\"].values.astype('U'))"
   ]
  },
  {
   "cell_type": "markdown",
   "id": "6428bb10",
   "metadata": {},
   "source": [
    "#### 6.3. Apply Grid Search\n",
    "After running this improvement, run everything from section 4 and 5 to get the new results"
   ]
  },
  {
   "cell_type": "code",
   "execution_count": 25,
   "id": "1fd1aaf1",
   "metadata": {},
   "outputs": [
    {
     "data": {
      "text/plain": [
       "GridSearchCV(cv=5, estimator=SVC(),\n",
       "             param_grid={'C': (1, 4, 8, 16, 32), 'kernel': ('linear', 'rbf')})"
      ]
     },
     "execution_count": 25,
     "metadata": {},
     "output_type": "execute_result"
    }
   ],
   "source": [
    "from sklearn.model_selection import GridSearchCV\n",
    "\n",
    "parameters = {\n",
    "    \"kernel\": (\"linear\", \"rbf\"),\n",
    "    \"C\": (1,4,8,16,32)\n",
    "}\n",
    "\n",
    "svc = svm.SVC()\n",
    "tuned_clf = GridSearchCV(svc, parameters, cv=5)\n",
    "tuned_clf.fit(train_x_vectors, train_y.values.ravel())"
   ]
  },
  {
   "cell_type": "markdown",
   "id": "3fe8458c",
   "metadata": {},
   "source": [
    "### 7. Testing"
   ]
  },
  {
   "cell_type": "code",
   "execution_count": 23,
   "id": "3aa22a4a",
   "metadata": {},
   "outputs": [
    {
     "data": {
      "text/plain": [
       "array(['POSITIVE', 'NEGATIVE', 'NEUTRAL'], dtype=object)"
      ]
     },
     "execution_count": 23,
     "metadata": {},
     "output_type": "execute_result"
    }
   ],
   "source": [
    "new_examples = [\n",
    "    \"This book is amazing! 5 stars\", \n",
    "    \"Waste of time, don't buy this book\", \n",
    "    \"Meh, thought it would be better\"\n",
    "]\n",
    "\n",
    "vectorized_examples = vectorizer.transform(new_examples)\n",
    "\n",
    "clf_svm.predict(vectorized_examples)"
   ]
  },
  {
   "cell_type": "markdown",
   "id": "185715a3",
   "metadata": {},
   "source": [
    "### 8. Model Persistence"
   ]
  },
  {
   "cell_type": "markdown",
   "id": "4e66d40c",
   "metadata": {},
   "source": [
    "#### 8.1. Saving Model"
   ]
  },
  {
   "cell_type": "code",
   "execution_count": 22,
   "id": "f95fa5c1",
   "metadata": {},
   "outputs": [],
   "source": [
    "import pickle\n",
    "\n",
    "with open(\"./models/feedback_classifier.pkl\", \"wb\") as f:\n",
    "    pickle.dump(clf_svm, f)"
   ]
  },
  {
   "cell_type": "markdown",
   "id": "3a6d977f",
   "metadata": {},
   "source": [
    "#### 8.2. Loading Model"
   ]
  },
  {
   "cell_type": "code",
   "execution_count": 24,
   "id": "ef8ae3e7",
   "metadata": {},
   "outputs": [],
   "source": [
    "with open(\"./models/feedback_classifier.pkl\", \"rb\") as f:\n",
    "    loaded_clf = pickle.load(f)"
   ]
  }
 ],
 "metadata": {
  "kernelspec": {
   "display_name": "Python 3",
   "language": "python",
   "name": "python3"
  },
  "language_info": {
   "codemirror_mode": {
    "name": "ipython",
    "version": 3
   },
   "file_extension": ".py",
   "mimetype": "text/x-python",
   "name": "python",
   "nbconvert_exporter": "python",
   "pygments_lexer": "ipython3",
   "version": "3.8.8"
  }
 },
 "nbformat": 4,
 "nbformat_minor": 5
}
