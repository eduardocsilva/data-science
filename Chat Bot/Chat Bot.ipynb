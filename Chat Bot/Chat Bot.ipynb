{
 "cells": [
  {
   "cell_type": "markdown",
   "id": "0171190f",
   "metadata": {},
   "source": [
    "# Chat Bot (Notebook)\n",
    "\n",
    "Developed with PyTorch, NLTK and NumPy.\n",
    "\n",
    "Based on the following [tutorial](https://www.youtube.com/watch?v=RpWeNzfSUHw) (dataset included)."
   ]
  },
  {
   "cell_type": "markdown",
   "id": "43a62da6",
   "metadata": {},
   "source": [
    "### 0. Setup"
   ]
  },
  {
   "cell_type": "code",
   "execution_count": 1,
   "id": "15c0464d",
   "metadata": {},
   "outputs": [],
   "source": [
    "# Imports\n",
    "import random\n",
    "import json\n",
    "import numpy as np\n",
    "\n",
    "import nltk\n",
    "#nltk.download('punkt') # Must be called on the first execution\n",
    "from nltk.stem.porter import PorterStemmer\n",
    "\n",
    "import torch\n",
    "import torch.nn as nn\n",
    "from torch.utils.data import Dataset, DataLoader"
   ]
  },
  {
   "cell_type": "code",
   "execution_count": 2,
   "id": "d64eff45",
   "metadata": {},
   "outputs": [],
   "source": [
    "# Util Functions\n",
    "def tokenize(sentence):\n",
    "    return nltk.word_tokenize(sentence)\n",
    "\n",
    "def stem(word):\n",
    "    return PorterStemmer().stem(word.lower())\n",
    "\n",
    "def bag_of_words(tokenized_sentence, all_words):\n",
    "    tokenized_sentence = [stem(word) for word in tokenized_sentence]\n",
    "\n",
    "    bag = np.zeros(len(all_words), dtype=np.float32)\n",
    "\n",
    "    for index, word in enumerate(all_words):\n",
    "        if word in tokenized_sentence:\n",
    "            bag[index] += 1.0\n",
    "\n",
    "    return bag"
   ]
  },
  {
   "cell_type": "markdown",
   "id": "cd205c1e",
   "metadata": {},
   "source": [
    "### 1. Load Data"
   ]
  },
  {
   "cell_type": "code",
   "execution_count": 3,
   "id": "7cc5579f",
   "metadata": {},
   "outputs": [],
   "source": [
    "with open(\"data.json\", \"r\") as f:\n",
    "    intents = json.load(f)\n",
    "\n",
    "all_words = []\n",
    "tags = []\n",
    "xy = []\n",
    "\n",
    "for intent in intents[\"intents\"]:\n",
    "    tag = intent[\"tag\"]\n",
    "    tags.append(tag)\n",
    "\n",
    "    for pattern in intent[\"patterns\"]:\n",
    "        word = tokenize(pattern)\n",
    "        all_words.extend(word)\n",
    "        xy.append((word, tag))\n",
    "\n",
    "ignore_tokens = [\"?\", \"!\", \".\", \".\"]\n",
    "all_words = [stem(w) for w in all_words if word not in ignore_tokens]"
   ]
  },
  {
   "cell_type": "markdown",
   "id": "80444609",
   "metadata": {},
   "source": [
    "### 2. Data Preparation"
   ]
  },
  {
   "cell_type": "code",
   "execution_count": 4,
   "id": "ad7618e3",
   "metadata": {},
   "outputs": [],
   "source": [
    "# Sort and remove duplicates\n",
    "all_words = sorted(set(all_words))\n",
    "tags = sorted(set(tags))\n",
    "\n",
    "x_train = []\n",
    "y_train = []\n",
    "\n",
    "for (pattern_sentence, tag) in xy:\n",
    "    bag = bag_of_words(pattern_sentence, all_words)\n",
    "    x_train.append(bag)\n",
    "\n",
    "    label = tags.index(tag)\n",
    "    y_train.append(label)\n",
    "\n",
    "x_train = np.array(x_train)\n",
    "y_train = np.array(y_train)"
   ]
  },
  {
   "cell_type": "code",
   "execution_count": 5,
   "id": "472e0479",
   "metadata": {},
   "outputs": [],
   "source": [
    "# Hyper Parameters\n",
    "batch_size = 8\n",
    "input_size = len(all_words)\n",
    "hidden_size = 8\n",
    "output_size = len(tags)\n",
    "learning_rate = 0.001\n",
    "num_epochs = 1000"
   ]
  },
  {
   "cell_type": "code",
   "execution_count": 6,
   "id": "c8b4772a",
   "metadata": {},
   "outputs": [],
   "source": [
    "# Custom Dataset class\n",
    "class ChatDataset(Dataset):\n",
    "    def __init__(self):\n",
    "        self.n_samples = len(x_train)\n",
    "        self.x_data = x_train\n",
    "        self.y_data = y_train\n",
    "\n",
    "    def __getitem__(self, index):\n",
    "        return self.x_data[index], self.y_data[index]\n",
    "\n",
    "    def __len__(self):\n",
    "        return self.n_samples\n",
    "\n",
    "dataset = ChatDataset()\n",
    "train_loader = DataLoader(dataset=dataset, batch_size=batch_size, shuffle=True)"
   ]
  },
  {
   "cell_type": "markdown",
   "id": "a6cbc8f2",
   "metadata": {},
   "source": [
    "### 3. Model Definition"
   ]
  },
  {
   "cell_type": "code",
   "execution_count": 7,
   "id": "643f6483",
   "metadata": {},
   "outputs": [],
   "source": [
    "class NN(nn.Module):\n",
    "    def __init__(self, input_size, hidden_size, num_classes):\n",
    "        super(NN, self).__init__()\n",
    "        self.l1 = nn.Linear(input_size, hidden_size)\n",
    "        self.l2 = nn.Linear(hidden_size, hidden_size)\n",
    "        self.l3 = nn.Linear(hidden_size, num_classes)\n",
    "        self.relu = nn.ReLU()\n",
    "\n",
    "    def forward(self, input):\n",
    "        out = self.l1(input)\n",
    "        out = self.relu(out)\n",
    "        out = self.l2(out)\n",
    "        out = self.relu(out)\n",
    "        out = self.l3(out)\n",
    "        return out"
   ]
  },
  {
   "cell_type": "markdown",
   "id": "9960c5a6",
   "metadata": {},
   "source": [
    "### 4. Training"
   ]
  },
  {
   "cell_type": "code",
   "execution_count": 8,
   "id": "8685f086",
   "metadata": {
    "scrolled": true
   },
   "outputs": [
    {
     "name": "stdout",
     "output_type": "stream",
     "text": [
      "Epoch 100/1000, loss=0.8767\n",
      "Epoch 200/1000, loss=0.4349\n",
      "Epoch 300/1000, loss=0.0386\n",
      "Epoch 400/1000, loss=0.0092\n",
      "Epoch 500/1000, loss=0.0198\n",
      "Epoch 600/1000, loss=0.0011\n",
      "Epoch 700/1000, loss=0.0008\n",
      "Epoch 800/1000, loss=0.0005\n",
      "Epoch 900/1000, loss=0.0002\n",
      "Epoch 1000/1000, loss=0.0010\n",
      "Final loss: 0.0010\n"
     ]
    }
   ],
   "source": [
    "model = NN(input_size, hidden_size, output_size)\n",
    "\n",
    "criterion = nn.CrossEntropyLoss()\n",
    "optimizer = torch.optim.Adam(model.parameters(), lr=learning_rate)\n",
    "\n",
    "for epoch in range(num_epochs):\n",
    "    for (words, labels) in train_loader:\n",
    "        # forward\n",
    "        outputs = model(words)\n",
    "        loss = criterion(outputs, labels)\n",
    "\n",
    "        # backward\n",
    "        optimizer.zero_grad()\n",
    "        loss.backward()\n",
    "        optimizer.step()\n",
    "\n",
    "    if (epoch + 1) % 100 == 0:\n",
    "        print(f'Epoch {epoch + 1}/{num_epochs}, loss={loss.item():.4f}')\n",
    "\n",
    "print(f'Final loss: {loss.item():.4f}')"
   ]
  },
  {
   "cell_type": "markdown",
   "id": "f4fceb59",
   "metadata": {},
   "source": [
    "### 5. Testing"
   ]
  },
  {
   "cell_type": "code",
   "execution_count": 9,
   "id": "ecf340e4",
   "metadata": {},
   "outputs": [],
   "source": [
    "def chat(sentence):\n",
    "    # Process sentence\n",
    "    sentence = tokenize(sentence)\n",
    "    bag = bag_of_words(sentence, all_words)\n",
    "    x = bag.reshape(1, bag.shape[0])\n",
    "    x = torch.from_numpy(x)\n",
    "\n",
    "    # Let the bot predict the tag\n",
    "    output = model(x)\n",
    "    _, pred = torch.max(output, dim=1)\n",
    "    tag = tags[pred.item()]\n",
    "\n",
    "    probs = torch.softmax(output, dim=1)\n",
    "    prob = probs[0][pred]\n",
    "\n",
    "    # If the tag is recognized with sufficient confidence,\n",
    "    # then select an adequate answer\n",
    "    if prob.item() > 0.75:\n",
    "        for intent in intents[\"intents\"]:\n",
    "            if tag == intent[\"tag\"]:\n",
    "                return f\"Bot: {random.choice(intent['responses'])}\"\n",
    "    else:\n",
    "        return \"Bot: I do not understand...\""
   ]
  },
  {
   "cell_type": "code",
   "execution_count": 10,
   "id": "7c9ea053",
   "metadata": {
    "scrolled": true
   },
   "outputs": [
    {
     "name": "stdout",
     "output_type": "stream",
     "text": [
      "You: Hello there!\n",
      "Bot: Hi there, what can I do for you?\n"
     ]
    }
   ],
   "source": [
    "user = \"Hello there!\"\n",
    "bot = chat(user)\n",
    "\n",
    "print(f\"You: {user}\")\n",
    "print(bot)"
   ]
  },
  {
   "cell_type": "markdown",
   "id": "1438e98c",
   "metadata": {},
   "source": [
    "### 6. Persistence"
   ]
  },
  {
   "cell_type": "code",
   "execution_count": 13,
   "id": "a8b9d122",
   "metadata": {},
   "outputs": [
    {
     "name": "stdout",
     "output_type": "stream",
     "text": [
      "File saved to chat_bot.pth successfully!\n"
     ]
    }
   ],
   "source": [
    "data = {\n",
    "    \"model_state\": model.state_dict(),\n",
    "    \"input_size\": input_size,\n",
    "    \"output_size\": output_size,\n",
    "    \"hidden_size\": hidden_size,\n",
    "    \"all_words\": all_words,\n",
    "    \"tags\": tags\n",
    "}\n",
    "\n",
    "file_name = \"chat_bot.pth\"\n",
    "torch.save(data, file_name)\n",
    "\n",
    "print(f\"File saved to {file_name} successfully!\")"
   ]
  }
 ],
 "metadata": {
  "kernelspec": {
   "display_name": "Python 3",
   "language": "python",
   "name": "python3"
  },
  "language_info": {
   "codemirror_mode": {
    "name": "ipython",
    "version": 3
   },
   "file_extension": ".py",
   "mimetype": "text/x-python",
   "name": "python",
   "nbconvert_exporter": "python",
   "pygments_lexer": "ipython3",
   "version": "3.8.8"
  }
 },
 "nbformat": 4,
 "nbformat_minor": 5
}
