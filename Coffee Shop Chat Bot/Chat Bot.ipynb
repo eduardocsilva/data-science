{
 "cells": [
  {
   "cell_type": "markdown",
   "source": [
    "# Coffee Chat Bot (Notebook)\n",
    "\n",
    "Developed with PyTorch and NLTK.\n",
    "\n",
    "Based on the following [tutorial](https://www.youtube.com/watch?v=RpWeNzfSUHw) (dataset included)."
   ],
   "metadata": {}
  },
  {
   "cell_type": "markdown",
   "source": [
    "### 0. Setup"
   ],
   "metadata": {}
  },
  {
   "cell_type": "code",
   "execution_count": 1,
   "source": [
    "# Imports\n",
    "import random\n",
    "import json\n",
    "import numpy as np\n",
    "\n",
    "import nltk\n",
    "#nltk.download('punkt') # Must be called on the first execution\n",
    "from nltk.stem.porter import PorterStemmer\n",
    "\n",
    "import torch\n",
    "import torch.nn as nn\n",
    "from torch.utils.data import Dataset, DataLoader"
   ],
   "outputs": [],
   "metadata": {}
  },
  {
   "cell_type": "code",
   "execution_count": 2,
   "source": [
    "# Util Functions\n",
    "def tokenize(sentence):\n",
    "    return nltk.word_tokenize(sentence)\n",
    "\n",
    "def stem(word):\n",
    "    return PorterStemmer().stem(word.lower())\n",
    "\n",
    "def bag_of_words(tokenized_sentence, all_words):\n",
    "    tokenized_sentence = [stem(word) for word in tokenized_sentence]\n",
    "\n",
    "    bag = np.zeros(len(all_words), dtype=np.float32)\n",
    "\n",
    "    for index, word in enumerate(all_words):\n",
    "        if word in tokenized_sentence:\n",
    "            bag[index] += 1.0\n",
    "\n",
    "    return bag"
   ],
   "outputs": [],
   "metadata": {}
  },
  {
   "cell_type": "markdown",
   "source": [
    "### 1. Load Data"
   ],
   "metadata": {}
  },
  {
   "cell_type": "code",
   "execution_count": 3,
   "source": [
    "with open(\"data.json\", \"r\") as f:\n",
    "    intents = json.load(f)\n",
    "\n",
    "all_words = []\n",
    "tags = []\n",
    "xy = []\n",
    "\n",
    "for intent in intents[\"intents\"]:\n",
    "    tag = intent[\"tag\"]\n",
    "    tags.append(tag)\n",
    "\n",
    "    for pattern in intent[\"patterns\"]:\n",
    "        word = tokenize(pattern)\n",
    "        all_words.extend(word)\n",
    "        xy.append((word, tag))\n",
    "\n",
    "ignore_tokens = [\"?\", \"!\", \".\", \".\"]\n",
    "all_words = [stem(w) for w in all_words if word not in ignore_tokens]"
   ],
   "outputs": [],
   "metadata": {}
  },
  {
   "cell_type": "markdown",
   "source": [
    "### 2. Data Preparation"
   ],
   "metadata": {}
  },
  {
   "cell_type": "code",
   "execution_count": 4,
   "source": [
    "# Sort and remove duplicates\n",
    "all_words = sorted(set(all_words))\n",
    "tags = sorted(set(tags))\n",
    "\n",
    "x_train = []\n",
    "y_train = []\n",
    "\n",
    "for (pattern_sentence, tag) in xy:\n",
    "    bag = bag_of_words(pattern_sentence, all_words)\n",
    "    x_train.append(bag)\n",
    "\n",
    "    label = tags.index(tag)\n",
    "    y_train.append(label)\n",
    "\n",
    "x_train = np.array(x_train)\n",
    "y_train = np.array(y_train)"
   ],
   "outputs": [],
   "metadata": {}
  },
  {
   "cell_type": "code",
   "execution_count": 5,
   "source": [
    "# Hyper Parameters\n",
    "batch_size = 8\n",
    "input_size = len(all_words)\n",
    "hidden_size = 8\n",
    "output_size = len(tags)\n",
    "learning_rate = 0.001\n",
    "num_epochs = 1000"
   ],
   "outputs": [],
   "metadata": {}
  },
  {
   "cell_type": "code",
   "execution_count": 6,
   "source": [
    "# Custom Dataset class\n",
    "class ChatDataset(Dataset):\n",
    "    def __init__(self):\n",
    "        self.n_samples = len(x_train)\n",
    "        self.x_data = x_train\n",
    "        self.y_data = y_train\n",
    "\n",
    "    def __getitem__(self, index):\n",
    "        return self.x_data[index], self.y_data[index]\n",
    "\n",
    "    def __len__(self):\n",
    "        return self.n_samples\n",
    "\n",
    "dataset = ChatDataset()\n",
    "train_loader = DataLoader(dataset=dataset, batch_size=batch_size, shuffle=True)"
   ],
   "outputs": [],
   "metadata": {}
  },
  {
   "cell_type": "markdown",
   "source": [
    "### 3. Model Definition"
   ],
   "metadata": {}
  },
  {
   "cell_type": "code",
   "execution_count": 7,
   "source": [
    "class NN(nn.Module):\n",
    "    def __init__(self, input_size, hidden_size, num_classes):\n",
    "        super(NN, self).__init__()\n",
    "        self.l1 = nn.Linear(input_size, hidden_size)\n",
    "        self.l2 = nn.Linear(hidden_size, hidden_size)\n",
    "        self.l3 = nn.Linear(hidden_size, num_classes)\n",
    "        self.relu = nn.ReLU()\n",
    "\n",
    "    def forward(self, input):\n",
    "        out = self.l1(input)\n",
    "        out = self.relu(out)\n",
    "        out = self.l2(out)\n",
    "        out = self.relu(out)\n",
    "        out = self.l3(out)\n",
    "        return out"
   ],
   "outputs": [],
   "metadata": {}
  },
  {
   "cell_type": "markdown",
   "source": [
    "### 4. Training"
   ],
   "metadata": {}
  },
  {
   "cell_type": "code",
   "execution_count": 8,
   "source": [
    "model = NN(input_size, hidden_size, output_size)\n",
    "\n",
    "criterion = nn.CrossEntropyLoss()\n",
    "optimizer = torch.optim.Adam(model.parameters(), lr=learning_rate)\n",
    "\n",
    "for epoch in range(num_epochs):\n",
    "    for (words, labels) in train_loader:\n",
    "        # forward\n",
    "        outputs = model(words)\n",
    "        loss = criterion(outputs, labels)\n",
    "\n",
    "        # backward\n",
    "        optimizer.zero_grad()\n",
    "        loss.backward()\n",
    "        optimizer.step()\n",
    "\n",
    "    if (epoch + 1) % 100 == 0:\n",
    "        print(f'Epoch {epoch + 1}/{num_epochs}, loss={loss.item():.4f}')\n",
    "\n",
    "print(f'Final loss: {loss.item():.4f}')"
   ],
   "outputs": [
    {
     "output_type": "stream",
     "name": "stdout",
     "text": [
      "Epoch 100/1000, loss=0.8767\n",
      "Epoch 200/1000, loss=0.4349\n",
      "Epoch 300/1000, loss=0.0386\n",
      "Epoch 400/1000, loss=0.0092\n",
      "Epoch 500/1000, loss=0.0198\n",
      "Epoch 600/1000, loss=0.0011\n",
      "Epoch 700/1000, loss=0.0008\n",
      "Epoch 800/1000, loss=0.0005\n",
      "Epoch 900/1000, loss=0.0002\n",
      "Epoch 1000/1000, loss=0.0010\n",
      "Final loss: 0.0010\n"
     ]
    }
   ],
   "metadata": {
    "scrolled": true
   }
  },
  {
   "cell_type": "markdown",
   "source": [
    "### 5. Testing"
   ],
   "metadata": {}
  },
  {
   "cell_type": "code",
   "execution_count": 9,
   "source": [
    "def chat(sentence):\n",
    "    # Process sentence\n",
    "    sentence = tokenize(sentence)\n",
    "    bag = bag_of_words(sentence, all_words)\n",
    "    x = bag.reshape(1, bag.shape[0])\n",
    "    x = torch.from_numpy(x)\n",
    "\n",
    "    # Let the bot predict the tag\n",
    "    output = model(x)\n",
    "    _, pred = torch.max(output, dim=1)\n",
    "    tag = tags[pred.item()]\n",
    "\n",
    "    probs = torch.softmax(output, dim=1)\n",
    "    prob = probs[0][pred]\n",
    "\n",
    "    # If the tag is recognized with sufficient confidence,\n",
    "    # then select an adequate answer\n",
    "    if prob.item() > 0.75:\n",
    "        for intent in intents[\"intents\"]:\n",
    "            if tag == intent[\"tag\"]:\n",
    "                return f\"Bot: {random.choice(intent['responses'])}\"\n",
    "    else:\n",
    "        return \"Bot: I do not understand...\""
   ],
   "outputs": [],
   "metadata": {}
  },
  {
   "cell_type": "code",
   "execution_count": 10,
   "source": [
    "user = \"Hello there!\"\n",
    "bot = chat(user)\n",
    "\n",
    "print(f\"You: {user}\")\n",
    "print(bot)"
   ],
   "outputs": [
    {
     "output_type": "stream",
     "name": "stdout",
     "text": [
      "You: Hello there!\n",
      "Bot: Hi there, what can I do for you?\n"
     ]
    }
   ],
   "metadata": {
    "scrolled": true
   }
  },
  {
   "cell_type": "markdown",
   "source": [
    "### 6. Persistence"
   ],
   "metadata": {}
  },
  {
   "cell_type": "code",
   "execution_count": 13,
   "source": [
    "data = {\n",
    "    \"model_state\": model.state_dict(),\n",
    "    \"input_size\": input_size,\n",
    "    \"output_size\": output_size,\n",
    "    \"hidden_size\": hidden_size,\n",
    "    \"all_words\": all_words,\n",
    "    \"tags\": tags\n",
    "}\n",
    "\n",
    "file_name = \"chat_bot.pth\"\n",
    "torch.save(data, file_name)\n",
    "\n",
    "print(f\"File saved to {file_name} successfully!\")"
   ],
   "outputs": [
    {
     "output_type": "stream",
     "name": "stdout",
     "text": [
      "File saved to chat_bot.pth successfully!\n"
     ]
    }
   ],
   "metadata": {}
  }
 ],
 "metadata": {
  "kernelspec": {
   "display_name": "Python 3",
   "language": "python",
   "name": "python3"
  },
  "language_info": {
   "codemirror_mode": {
    "name": "ipython",
    "version": 3
   },
   "file_extension": ".py",
   "mimetype": "text/x-python",
   "name": "python",
   "nbconvert_exporter": "python",
   "pygments_lexer": "ipython3",
   "version": "3.8.8"
  }
 },
 "nbformat": 4,
 "nbformat_minor": 5
}