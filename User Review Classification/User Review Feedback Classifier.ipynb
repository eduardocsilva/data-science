{
 "cells": [
  {
   "cell_type": "markdown",
   "id": "aa810218",
   "metadata": {},
   "source": [
    "# User Review Feedback Classifier\n",
    "Developed with Scikit-learn, Pandas, etc.\n",
    "\n",
    "Based on the following [tutorial](https://www.youtube.com/watch?v=M9Itm95JzL0), from Keith Galli.\n",
    "\n",
    "Reviews retrieved from the following [Amazon user reviews dataset](https://nijianmo.github.io/amazon/index.html)."
   ]
  },
  {
   "cell_type": "markdown",
   "id": "d5c0e4e9",
   "metadata": {},
   "source": [
    "### 1. Load Data"
   ]
  },
  {
   "cell_type": "code",
   "execution_count": 1,
   "id": "0fc6f2c1",
   "metadata": {},
   "outputs": [
    {
     "data": {
      "text/html": [
       "<div>\n",
       "<style scoped>\n",
       "    .dataframe tbody tr th:only-of-type {\n",
       "        vertical-align: middle;\n",
       "    }\n",
       "\n",
       "    .dataframe tbody tr th {\n",
       "        vertical-align: top;\n",
       "    }\n",
       "\n",
       "    .dataframe thead th {\n",
       "        text-align: right;\n",
       "    }\n",
       "</style>\n",
       "<table border=\"1\" class=\"dataframe\">\n",
       "  <thead>\n",
       "    <tr style=\"text-align: right;\">\n",
       "      <th></th>\n",
       "      <th>overall</th>\n",
       "      <th>verified</th>\n",
       "      <th>reviewTime</th>\n",
       "      <th>reviewerID</th>\n",
       "      <th>asin</th>\n",
       "      <th>style</th>\n",
       "      <th>reviewerName</th>\n",
       "      <th>reviewText</th>\n",
       "      <th>summary</th>\n",
       "      <th>unixReviewTime</th>\n",
       "      <th>vote</th>\n",
       "      <th>image</th>\n",
       "    </tr>\n",
       "  </thead>\n",
       "  <tbody>\n",
       "    <tr>\n",
       "      <th>0</th>\n",
       "      <td>5</td>\n",
       "      <td>True</td>\n",
       "      <td>01 1, 2014</td>\n",
       "      <td>A2JY90TWJY6JUN</td>\n",
       "      <td>0983429405</td>\n",
       "      <td>{'Format:': ' Kindle Edition'}</td>\n",
       "      <td>M. Mander</td>\n",
       "      <td>I am enjoying this informative book and will c...</td>\n",
       "      <td>very useful book</td>\n",
       "      <td>1388534400</td>\n",
       "      <td>NaN</td>\n",
       "      <td>NaN</td>\n",
       "    </tr>\n",
       "    <tr>\n",
       "      <th>1</th>\n",
       "      <td>5</td>\n",
       "      <td>False</td>\n",
       "      <td>10 1, 2014</td>\n",
       "      <td>A2X9MVOFF593CP</td>\n",
       "      <td>0373773846</td>\n",
       "      <td>{'Format:': ' Kindle Edition'}</td>\n",
       "      <td>Stephanie</td>\n",
       "      <td>For the past several years Garth Duncan has ha...</td>\n",
       "      <td>An Author Who Makes You Root for the Villian!</td>\n",
       "      <td>1412121600</td>\n",
       "      <td>NaN</td>\n",
       "      <td>NaN</td>\n",
       "    </tr>\n",
       "    <tr>\n",
       "      <th>2</th>\n",
       "      <td>5</td>\n",
       "      <td>True</td>\n",
       "      <td>10 9, 2014</td>\n",
       "      <td>A3BK2NSHZWNB7</td>\n",
       "      <td>1416567178</td>\n",
       "      <td>{'Format:': ' Mass Market Paperback'}</td>\n",
       "      <td>BCS</td>\n",
       "      <td>Great story!</td>\n",
       "      <td>Five Stars</td>\n",
       "      <td>1412812800</td>\n",
       "      <td>NaN</td>\n",
       "      <td>NaN</td>\n",
       "    </tr>\n",
       "    <tr>\n",
       "      <th>3</th>\n",
       "      <td>5</td>\n",
       "      <td>True</td>\n",
       "      <td>09 8, 2014</td>\n",
       "      <td>A11PTQ33D2V7FO</td>\n",
       "      <td>0891415440</td>\n",
       "      <td>{'Format:': ' Paperback'}</td>\n",
       "      <td>Beverly Cobb</td>\n",
       "      <td>loved his speech at graduation - haven't had a...</td>\n",
       "      <td>loved his speech at graduation - haven't had a...</td>\n",
       "      <td>1410134400</td>\n",
       "      <td>NaN</td>\n",
       "      <td>NaN</td>\n",
       "    </tr>\n",
       "    <tr>\n",
       "      <th>4</th>\n",
       "      <td>5</td>\n",
       "      <td>True</td>\n",
       "      <td>12 23, 2014</td>\n",
       "      <td>A31U1BI272EHBQ</td>\n",
       "      <td>0230531423</td>\n",
       "      <td>{'Format:': ' Kindle Edition'}</td>\n",
       "      <td>tom</td>\n",
       "      <td>Excellent. Fast moving novel with a lot of twi...</td>\n",
       "      <td>Five Stars</td>\n",
       "      <td>1419292800</td>\n",
       "      <td>NaN</td>\n",
       "      <td>NaN</td>\n",
       "    </tr>\n",
       "    <tr>\n",
       "      <th>...</th>\n",
       "      <td>...</td>\n",
       "      <td>...</td>\n",
       "      <td>...</td>\n",
       "      <td>...</td>\n",
       "      <td>...</td>\n",
       "      <td>...</td>\n",
       "      <td>...</td>\n",
       "      <td>...</td>\n",
       "      <td>...</td>\n",
       "      <td>...</td>\n",
       "      <td>...</td>\n",
       "      <td>...</td>\n",
       "    </tr>\n",
       "    <tr>\n",
       "      <th>99995</th>\n",
       "      <td>5</td>\n",
       "      <td>True</td>\n",
       "      <td>03 22, 2014</td>\n",
       "      <td>AHEFWE15V4V2V</td>\n",
       "      <td>1451655789</td>\n",
       "      <td>{'Format:': ' Kindle Edition'}</td>\n",
       "      <td>Mary Ann Curran</td>\n",
       "      <td>This was my first book written by Lucinda Rile...</td>\n",
       "      <td>I loved this book!</td>\n",
       "      <td>1395446400</td>\n",
       "      <td>NaN</td>\n",
       "      <td>NaN</td>\n",
       "    </tr>\n",
       "    <tr>\n",
       "      <th>99996</th>\n",
       "      <td>4</td>\n",
       "      <td>True</td>\n",
       "      <td>08 6, 2014</td>\n",
       "      <td>A3KHI2BWMZBGBR</td>\n",
       "      <td>0615437850</td>\n",
       "      <td>{'Format:': ' Kindle Edition'}</td>\n",
       "      <td>Morgan</td>\n",
       "      <td>intriguing and entertaining. Very interesting ...</td>\n",
       "      <td>intriguing and entertaining</td>\n",
       "      <td>1407283200</td>\n",
       "      <td>NaN</td>\n",
       "      <td>NaN</td>\n",
       "    </tr>\n",
       "    <tr>\n",
       "      <th>99997</th>\n",
       "      <td>5</td>\n",
       "      <td>True</td>\n",
       "      <td>08 17, 2014</td>\n",
       "      <td>AGSD81W1G7OFO</td>\n",
       "      <td>1630350354</td>\n",
       "      <td>{'Format:': ' Kindle Edition'}</td>\n",
       "      <td>MGC</td>\n",
       "      <td>I have loved all the books in this series and ...</td>\n",
       "      <td>That was the end</td>\n",
       "      <td>1408233600</td>\n",
       "      <td>3</td>\n",
       "      <td>NaN</td>\n",
       "    </tr>\n",
       "    <tr>\n",
       "      <th>99998</th>\n",
       "      <td>4</td>\n",
       "      <td>True</td>\n",
       "      <td>07 27, 2014</td>\n",
       "      <td>A2N042WE38C8QP</td>\n",
       "      <td>144210242X</td>\n",
       "      <td>{'Format:': ' Kindle Edition'}</td>\n",
       "      <td>cindy</td>\n",
       "      <td>fast paced and hard to put down. Great read</td>\n",
       "      <td>Great</td>\n",
       "      <td>1406419200</td>\n",
       "      <td>NaN</td>\n",
       "      <td>NaN</td>\n",
       "    </tr>\n",
       "    <tr>\n",
       "      <th>99999</th>\n",
       "      <td>5</td>\n",
       "      <td>True</td>\n",
       "      <td>03 3, 2014</td>\n",
       "      <td>A3V7A7O2HSB3OK</td>\n",
       "      <td>0140432205</td>\n",
       "      <td>{'Format:': ' Kindle Edition'}</td>\n",
       "      <td>AshNicole</td>\n",
       "      <td>Originally, I was not thrilled on reading this...</td>\n",
       "      <td>This was originally just for a class,but a gre...</td>\n",
       "      <td>1393804800</td>\n",
       "      <td>4</td>\n",
       "      <td>NaN</td>\n",
       "    </tr>\n",
       "  </tbody>\n",
       "</table>\n",
       "<p>100000 rows × 12 columns</p>\n",
       "</div>"
      ],
      "text/plain": [
       "       overall  verified   reviewTime      reviewerID        asin  \\\n",
       "0            5      True   01 1, 2014  A2JY90TWJY6JUN  0983429405   \n",
       "1            5     False   10 1, 2014  A2X9MVOFF593CP  0373773846   \n",
       "2            5      True   10 9, 2014   A3BK2NSHZWNB7  1416567178   \n",
       "3            5      True   09 8, 2014  A11PTQ33D2V7FO  0891415440   \n",
       "4            5      True  12 23, 2014  A31U1BI272EHBQ  0230531423   \n",
       "...        ...       ...          ...             ...         ...   \n",
       "99995        5      True  03 22, 2014   AHEFWE15V4V2V  1451655789   \n",
       "99996        4      True   08 6, 2014  A3KHI2BWMZBGBR  0615437850   \n",
       "99997        5      True  08 17, 2014   AGSD81W1G7OFO  1630350354   \n",
       "99998        4      True  07 27, 2014  A2N042WE38C8QP  144210242X   \n",
       "99999        5      True   03 3, 2014  A3V7A7O2HSB3OK  0140432205   \n",
       "\n",
       "                                       style     reviewerName  \\\n",
       "0             {'Format:': ' Kindle Edition'}        M. Mander   \n",
       "1             {'Format:': ' Kindle Edition'}        Stephanie   \n",
       "2      {'Format:': ' Mass Market Paperback'}              BCS   \n",
       "3                  {'Format:': ' Paperback'}     Beverly Cobb   \n",
       "4             {'Format:': ' Kindle Edition'}              tom   \n",
       "...                                      ...              ...   \n",
       "99995         {'Format:': ' Kindle Edition'}  Mary Ann Curran   \n",
       "99996         {'Format:': ' Kindle Edition'}           Morgan   \n",
       "99997         {'Format:': ' Kindle Edition'}              MGC   \n",
       "99998         {'Format:': ' Kindle Edition'}            cindy   \n",
       "99999         {'Format:': ' Kindle Edition'}        AshNicole   \n",
       "\n",
       "                                              reviewText  \\\n",
       "0      I am enjoying this informative book and will c...   \n",
       "1      For the past several years Garth Duncan has ha...   \n",
       "2                                           Great story!   \n",
       "3      loved his speech at graduation - haven't had a...   \n",
       "4      Excellent. Fast moving novel with a lot of twi...   \n",
       "...                                                  ...   \n",
       "99995  This was my first book written by Lucinda Rile...   \n",
       "99996  intriguing and entertaining. Very interesting ...   \n",
       "99997  I have loved all the books in this series and ...   \n",
       "99998        fast paced and hard to put down. Great read   \n",
       "99999  Originally, I was not thrilled on reading this...   \n",
       "\n",
       "                                                 summary  unixReviewTime vote  \\\n",
       "0                                       very useful book      1388534400  NaN   \n",
       "1          An Author Who Makes You Root for the Villian!      1412121600  NaN   \n",
       "2                                             Five Stars      1412812800  NaN   \n",
       "3      loved his speech at graduation - haven't had a...      1410134400  NaN   \n",
       "4                                             Five Stars      1419292800  NaN   \n",
       "...                                                  ...             ...  ...   \n",
       "99995                                 I loved this book!      1395446400  NaN   \n",
       "99996                        intriguing and entertaining      1407283200  NaN   \n",
       "99997                                   That was the end      1408233600    3   \n",
       "99998                                              Great      1406419200  NaN   \n",
       "99999  This was originally just for a class,but a gre...      1393804800    4   \n",
       "\n",
       "      image  \n",
       "0       NaN  \n",
       "1       NaN  \n",
       "2       NaN  \n",
       "3       NaN  \n",
       "4       NaN  \n",
       "...     ...  \n",
       "99995   NaN  \n",
       "99996   NaN  \n",
       "99997   NaN  \n",
       "99998   NaN  \n",
       "99999   NaN  \n",
       "\n",
       "[100000 rows x 12 columns]"
      ]
     },
     "execution_count": 1,
     "metadata": {},
     "output_type": "execute_result"
    }
   ],
   "source": [
    "import pandas as pd\n",
    "import numpy as np\n",
    "\n",
    "# Load raw data\n",
    "raw_df = pd.read_json(\"./data/feedback/Reviews_100k.json\")\n",
    "raw_df"
   ]
  },
  {
   "cell_type": "code",
   "execution_count": 50,
   "id": "694f22f3",
   "metadata": {},
   "outputs": [
    {
     "data": {
      "text/html": [
       "<div>\n",
       "<style scoped>\n",
       "    .dataframe tbody tr th:only-of-type {\n",
       "        vertical-align: middle;\n",
       "    }\n",
       "\n",
       "    .dataframe tbody tr th {\n",
       "        vertical-align: top;\n",
       "    }\n",
       "\n",
       "    .dataframe thead th {\n",
       "        text-align: right;\n",
       "    }\n",
       "</style>\n",
       "<table border=\"1\" class=\"dataframe\">\n",
       "  <thead>\n",
       "    <tr style=\"text-align: right;\">\n",
       "      <th></th>\n",
       "      <th>reviewText</th>\n",
       "      <th>overall</th>\n",
       "    </tr>\n",
       "  </thead>\n",
       "  <tbody>\n",
       "    <tr>\n",
       "      <th>0</th>\n",
       "      <td>I am enjoying this informative book and will c...</td>\n",
       "      <td>5</td>\n",
       "    </tr>\n",
       "    <tr>\n",
       "      <th>1</th>\n",
       "      <td>For the past several years Garth Duncan has ha...</td>\n",
       "      <td>5</td>\n",
       "    </tr>\n",
       "    <tr>\n",
       "      <th>2</th>\n",
       "      <td>Great story!</td>\n",
       "      <td>5</td>\n",
       "    </tr>\n",
       "    <tr>\n",
       "      <th>3</th>\n",
       "      <td>loved his speech at graduation - haven't had a...</td>\n",
       "      <td>5</td>\n",
       "    </tr>\n",
       "    <tr>\n",
       "      <th>4</th>\n",
       "      <td>Excellent. Fast moving novel with a lot of twi...</td>\n",
       "      <td>5</td>\n",
       "    </tr>\n",
       "    <tr>\n",
       "      <th>...</th>\n",
       "      <td>...</td>\n",
       "      <td>...</td>\n",
       "    </tr>\n",
       "    <tr>\n",
       "      <th>99995</th>\n",
       "      <td>This was my first book written by Lucinda Rile...</td>\n",
       "      <td>5</td>\n",
       "    </tr>\n",
       "    <tr>\n",
       "      <th>99996</th>\n",
       "      <td>intriguing and entertaining. Very interesting ...</td>\n",
       "      <td>4</td>\n",
       "    </tr>\n",
       "    <tr>\n",
       "      <th>99997</th>\n",
       "      <td>I have loved all the books in this series and ...</td>\n",
       "      <td>5</td>\n",
       "    </tr>\n",
       "    <tr>\n",
       "      <th>99998</th>\n",
       "      <td>fast paced and hard to put down. Great read</td>\n",
       "      <td>4</td>\n",
       "    </tr>\n",
       "    <tr>\n",
       "      <th>99999</th>\n",
       "      <td>Originally, I was not thrilled on reading this...</td>\n",
       "      <td>5</td>\n",
       "    </tr>\n",
       "  </tbody>\n",
       "</table>\n",
       "<p>100000 rows × 2 columns</p>\n",
       "</div>"
      ],
      "text/plain": [
       "                                              reviewText  overall\n",
       "0      I am enjoying this informative book and will c...        5\n",
       "1      For the past several years Garth Duncan has ha...        5\n",
       "2                                           Great story!        5\n",
       "3      loved his speech at graduation - haven't had a...        5\n",
       "4      Excellent. Fast moving novel with a lot of twi...        5\n",
       "...                                                  ...      ...\n",
       "99995  This was my first book written by Lucinda Rile...        5\n",
       "99996  intriguing and entertaining. Very interesting ...        4\n",
       "99997  I have loved all the books in this series and ...        5\n",
       "99998        fast paced and hard to put down. Great read        4\n",
       "99999  Originally, I was not thrilled on reading this...        5\n",
       "\n",
       "[100000 rows x 2 columns]"
      ]
     },
     "execution_count": 50,
     "metadata": {},
     "output_type": "execute_result"
    }
   ],
   "source": [
    "# Filter necessary columns\n",
    "df = raw_df[[\"reviewText\", \"overall\"]][:100000]\n",
    "df"
   ]
  },
  {
   "cell_type": "markdown",
   "id": "dc7629f7",
   "metadata": {},
   "source": [
    "### 2. Prepare Data"
   ]
  },
  {
   "cell_type": "code",
   "execution_count": 51,
   "id": "fd9049d3",
   "metadata": {
    "scrolled": false
   },
   "outputs": [
    {
     "data": {
      "text/html": [
       "<div>\n",
       "<style scoped>\n",
       "    .dataframe tbody tr th:only-of-type {\n",
       "        vertical-align: middle;\n",
       "    }\n",
       "\n",
       "    .dataframe tbody tr th {\n",
       "        vertical-align: top;\n",
       "    }\n",
       "\n",
       "    .dataframe thead th {\n",
       "        text-align: right;\n",
       "    }\n",
       "</style>\n",
       "<table border=\"1\" class=\"dataframe\">\n",
       "  <thead>\n",
       "    <tr style=\"text-align: right;\">\n",
       "      <th></th>\n",
       "      <th>reviewText</th>\n",
       "      <th>overall</th>\n",
       "      <th>feedback</th>\n",
       "    </tr>\n",
       "  </thead>\n",
       "  <tbody>\n",
       "    <tr>\n",
       "      <th>0</th>\n",
       "      <td>I am enjoying this informative book and will c...</td>\n",
       "      <td>5</td>\n",
       "      <td>POSITIVE</td>\n",
       "    </tr>\n",
       "    <tr>\n",
       "      <th>1</th>\n",
       "      <td>For the past several years Garth Duncan has ha...</td>\n",
       "      <td>5</td>\n",
       "      <td>POSITIVE</td>\n",
       "    </tr>\n",
       "    <tr>\n",
       "      <th>2</th>\n",
       "      <td>Great story!</td>\n",
       "      <td>5</td>\n",
       "      <td>POSITIVE</td>\n",
       "    </tr>\n",
       "    <tr>\n",
       "      <th>3</th>\n",
       "      <td>loved his speech at graduation - haven't had a...</td>\n",
       "      <td>5</td>\n",
       "      <td>POSITIVE</td>\n",
       "    </tr>\n",
       "    <tr>\n",
       "      <th>4</th>\n",
       "      <td>Excellent. Fast moving novel with a lot of twi...</td>\n",
       "      <td>5</td>\n",
       "      <td>POSITIVE</td>\n",
       "    </tr>\n",
       "    <tr>\n",
       "      <th>...</th>\n",
       "      <td>...</td>\n",
       "      <td>...</td>\n",
       "      <td>...</td>\n",
       "    </tr>\n",
       "    <tr>\n",
       "      <th>99995</th>\n",
       "      <td>This was my first book written by Lucinda Rile...</td>\n",
       "      <td>5</td>\n",
       "      <td>POSITIVE</td>\n",
       "    </tr>\n",
       "    <tr>\n",
       "      <th>99996</th>\n",
       "      <td>intriguing and entertaining. Very interesting ...</td>\n",
       "      <td>4</td>\n",
       "      <td>POSITIVE</td>\n",
       "    </tr>\n",
       "    <tr>\n",
       "      <th>99997</th>\n",
       "      <td>I have loved all the books in this series and ...</td>\n",
       "      <td>5</td>\n",
       "      <td>POSITIVE</td>\n",
       "    </tr>\n",
       "    <tr>\n",
       "      <th>99998</th>\n",
       "      <td>fast paced and hard to put down. Great read</td>\n",
       "      <td>4</td>\n",
       "      <td>POSITIVE</td>\n",
       "    </tr>\n",
       "    <tr>\n",
       "      <th>99999</th>\n",
       "      <td>Originally, I was not thrilled on reading this...</td>\n",
       "      <td>5</td>\n",
       "      <td>POSITIVE</td>\n",
       "    </tr>\n",
       "  </tbody>\n",
       "</table>\n",
       "<p>100000 rows × 3 columns</p>\n",
       "</div>"
      ],
      "text/plain": [
       "                                              reviewText  overall  feedback\n",
       "0      I am enjoying this informative book and will c...        5  POSITIVE\n",
       "1      For the past several years Garth Duncan has ha...        5  POSITIVE\n",
       "2                                           Great story!        5  POSITIVE\n",
       "3      loved his speech at graduation - haven't had a...        5  POSITIVE\n",
       "4      Excellent. Fast moving novel with a lot of twi...        5  POSITIVE\n",
       "...                                                  ...      ...       ...\n",
       "99995  This was my first book written by Lucinda Rile...        5  POSITIVE\n",
       "99996  intriguing and entertaining. Very interesting ...        4  POSITIVE\n",
       "99997  I have loved all the books in this series and ...        5  POSITIVE\n",
       "99998        fast paced and hard to put down. Great read        4  POSITIVE\n",
       "99999  Originally, I was not thrilled on reading this...        5  POSITIVE\n",
       "\n",
       "[100000 rows x 3 columns]"
      ]
     },
     "execution_count": 51,
     "metadata": {},
     "output_type": "execute_result"
    }
   ],
   "source": [
    "# Add feedback classification column\n",
    "conditions = [\n",
    "    df[\"overall\"] <= 2,\n",
    "    df[\"overall\"] == 3,\n",
    "    df[\"overall\"] >= 4\n",
    "]\n",
    "\n",
    "classes = [\n",
    "    \"NEGATIVE\",\n",
    "    \"NEUTRAL\",\n",
    "    \"POSITIVE\"\n",
    "]\n",
    "\n",
    "df[\"feedback\"] = np.select(conditions, classes)\n",
    "df"
   ]
  },
  {
   "cell_type": "code",
   "execution_count": 52,
   "id": "e7e4568c",
   "metadata": {},
   "outputs": [
    {
     "name": "stdout",
     "output_type": "stream",
     "text": [
      "Training Set Length: 67000\n",
      "Test Set Length: 33000\n"
     ]
    }
   ],
   "source": [
    "# Split data into training and test set\n",
    "from sklearn.model_selection import train_test_split\n",
    "\n",
    "split_seed = 10\n",
    "train, test = train_test_split(df, test_size=0.33, random_state=split_seed)\n",
    "\n",
    "print(\"Training Set Length:\", len(train))\n",
    "print(\"Test Set Length:\", len(test))"
   ]
  },
  {
   "cell_type": "code",
   "execution_count": 53,
   "id": "e3e3ffee",
   "metadata": {},
   "outputs": [],
   "source": [
    "# Seperate features from labels\n",
    "train_x = train[[\"reviewText\"]]\n",
    "train_y = train[[\"feedback\"]]\n",
    "\n",
    "test_x = test[[\"reviewText\"]]\n",
    "test_y = test[[\"feedback\"]]"
   ]
  },
  {
   "cell_type": "markdown",
   "id": "6b06ebcb",
   "metadata": {},
   "source": [
    "### 3. Text Vectorization"
   ]
  },
  {
   "cell_type": "code",
   "execution_count": 54,
   "id": "be429d45",
   "metadata": {
    "scrolled": false
   },
   "outputs": [],
   "source": [
    "# Tokenize text into bags of words\n",
    "from sklearn.feature_extraction.text import CountVectorizer\n",
    "\n",
    "vectorizer = CountVectorizer()\n",
    "train_x_vectors = vectorizer.fit_transform(train_x[\"reviewText\"].values.astype('U'))\n",
    "test_x_vectors = vectorizer.transform(test_x[\"reviewText\"].values.astype('U'))"
   ]
  },
  {
   "cell_type": "markdown",
   "id": "fc26f9d6",
   "metadata": {},
   "source": [
    "### 4. Training"
   ]
  },
  {
   "cell_type": "markdown",
   "id": "784a39a0",
   "metadata": {},
   "source": [
    "#### 4.1. Linear SVM"
   ]
  },
  {
   "cell_type": "code",
   "execution_count": 58,
   "id": "3395d992",
   "metadata": {},
   "outputs": [
    {
     "name": "stdout",
     "output_type": "stream",
     "text": [
      "Test Review: I was very disappointed with this book. Maybe my expectations were higher as I've  enjoyed so many other John Grisham novels. This novel is no comparison to the others. The main character has no depth. The story is like reading a documentary about the coal industry. I don't know what he was going for here, but it failed to engage me.\n",
      "Prediction: NEGATIVE\n"
     ]
    }
   ],
   "source": [
    "from sklearn import svm\n",
    "\n",
    "clf_svm = svm.SVC(kernel=\"linear\")\n",
    "\n",
    "clf_svm.fit(train_x_vectors, train_y.values.ravel())\n",
    "\n",
    "test_review = test_x.iloc[0].values[0]\n",
    "clf_svm_prediction = clf_svm.predict(test_x_vectors[0])\n",
    "\n",
    "print(\"Test Review:\", test_review)\n",
    "print(\"Prediction:\", clf_svm_prediction[0])"
   ]
  },
  {
   "cell_type": "markdown",
   "id": "031fdbf2",
   "metadata": {},
   "source": [
    "#### 4.2. Decision Tree"
   ]
  },
  {
   "cell_type": "code",
   "execution_count": 59,
   "id": "8993b420",
   "metadata": {},
   "outputs": [
    {
     "name": "stdout",
     "output_type": "stream",
     "text": [
      "Test Review: I was very disappointed with this book. Maybe my expectations were higher as I've  enjoyed so many other John Grisham novels. This novel is no comparison to the others. The main character has no depth. The story is like reading a documentary about the coal industry. I don't know what he was going for here, but it failed to engage me.\n",
      "Prediction: NEUTRAL\n"
     ]
    }
   ],
   "source": [
    "from sklearn.tree import DecisionTreeClassifier\n",
    "\n",
    "clf_tree = DecisionTreeClassifier()\n",
    "\n",
    "clf_tree.fit(train_x_vectors, train_y.values.ravel())\n",
    "\n",
    "test_review = test_x.iloc[0].values[0]\n",
    "clf_tree_prediction = clf_tree.predict(test_x_vectors[0])\n",
    "\n",
    "print(\"Test Review:\", test_review)\n",
    "print(\"Prediction:\", clf_tree_prediction[0])"
   ]
  },
  {
   "cell_type": "markdown",
   "id": "5028bee0",
   "metadata": {},
   "source": [
    "#### 4.3. Naive Bayes"
   ]
  },
  {
   "cell_type": "code",
   "execution_count": 60,
   "id": "8ecd4ea4",
   "metadata": {},
   "outputs": [
    {
     "name": "stdout",
     "output_type": "stream",
     "text": [
      "Test Review: I was very disappointed with this book. Maybe my expectations were higher as I've  enjoyed so many other John Grisham novels. This novel is no comparison to the others. The main character has no depth. The story is like reading a documentary about the coal industry. I don't know what he was going for here, but it failed to engage me.\n",
      "Prediction: NEUTRAL\n"
     ]
    }
   ],
   "source": [
    "from sklearn.naive_bayes import GaussianNB\n",
    "\n",
    "clf_nb = GaussianNB()\n",
    "\n",
    "clf_nb.fit(train_x_vectors.toarray(), train_y.values.ravel())\n",
    "\n",
    "test_review = test_x.iloc[0].values[0]\n",
    "clf_nb_prediction = clf_nb.predict(test_x_vectors[0].toarray())\n",
    "\n",
    "print(\"Test Review:\", test_review)\n",
    "print(\"Prediction:\", clf_nb_prediction[0])"
   ]
  },
  {
   "cell_type": "markdown",
   "id": "cd1c4142",
   "metadata": {},
   "source": [
    "#### 4.4. Logistic Regression"
   ]
  },
  {
   "cell_type": "code",
   "execution_count": 71,
   "id": "7c4ce738",
   "metadata": {
    "scrolled": false
   },
   "outputs": [
    {
     "name": "stdout",
     "output_type": "stream",
     "text": [
      "Test Review: I was very disappointed with this book. Maybe my expectations were higher as I've  enjoyed so many other John Grisham novels. This novel is no comparison to the others. The main character has no depth. The story is like reading a documentary about the coal industry. I don't know what he was going for here, but it failed to engage me.\n",
      "Prediction: NEGATIVE\n"
     ]
    }
   ],
   "source": [
    "from sklearn.linear_model import LogisticRegression\n",
    "\n",
    "clf_log = LogisticRegression(max_iter=1000)\n",
    "\n",
    "clf_log.fit(train_x_vectors, train_y.values.ravel())\n",
    "\n",
    "test_review = test_x.iloc[0].values[0]\n",
    "clf_log_prediction = clf_log.predict(test_x_vectors[0])\n",
    "\n",
    "print(\"Test Review:\", test_review)\n",
    "print(\"Prediction:\", clf_log_prediction[0])"
   ]
  },
  {
   "cell_type": "markdown",
   "id": "a18ef478",
   "metadata": {},
   "source": [
    "### 5. Evaluation"
   ]
  },
  {
   "cell_type": "code",
   "execution_count": 72,
   "id": "b2b44863",
   "metadata": {
    "scrolled": true
   },
   "outputs": [
    {
     "data": {
      "text/html": [
       "<div>\n",
       "<style scoped>\n",
       "    .dataframe tbody tr th:only-of-type {\n",
       "        vertical-align: middle;\n",
       "    }\n",
       "\n",
       "    .dataframe tbody tr th {\n",
       "        vertical-align: top;\n",
       "    }\n",
       "\n",
       "    .dataframe thead th {\n",
       "        text-align: right;\n",
       "    }\n",
       "</style>\n",
       "<table border=\"1\" class=\"dataframe\">\n",
       "  <thead>\n",
       "    <tr style=\"text-align: right;\">\n",
       "      <th></th>\n",
       "      <th>Classifier</th>\n",
       "      <th>Accuracy</th>\n",
       "    </tr>\n",
       "  </thead>\n",
       "  <tbody>\n",
       "    <tr>\n",
       "      <th>0</th>\n",
       "      <td>SVM</td>\n",
       "      <td>0.673608</td>\n",
       "    </tr>\n",
       "    <tr>\n",
       "      <th>1</th>\n",
       "      <td>Decision Tree</td>\n",
       "      <td>0.493637</td>\n",
       "    </tr>\n",
       "    <tr>\n",
       "      <th>2</th>\n",
       "      <td>Naive Bayes</td>\n",
       "      <td>0.399603</td>\n",
       "    </tr>\n",
       "    <tr>\n",
       "      <th>3</th>\n",
       "      <td>Logistic Regression</td>\n",
       "      <td>0.677739</td>\n",
       "    </tr>\n",
       "  </tbody>\n",
       "</table>\n",
       "</div>"
      ],
      "text/plain": [
       "            Classifier  Accuracy\n",
       "0                  SVM  0.673608\n",
       "1        Decision Tree  0.493637\n",
       "2          Naive Bayes  0.399603\n",
       "3  Logistic Regression  0.677739"
      ]
     },
     "execution_count": 72,
     "metadata": {},
     "output_type": "execute_result"
    }
   ],
   "source": [
    "accuracies = [\n",
    "    [\"SVM\", clf_svm.score(test_x_vectors, test_y)],\n",
    "    [\"Decision Tree\", clf_tree.score(test_x_vectors, test_y)],\n",
    "    [\"Naive Bayes\", clf_nb.score(test_x_vectors.toarray(), test_y)],\n",
    "    [\"Logistic Regression\", clf_log.score(test_x_vectors, test_y)],\n",
    "]\n",
    "\n",
    "pd.DataFrame(data=accuracies, columns=[\"Classifier\", \"Accuracy\"])"
   ]
  },
  {
   "cell_type": "code",
   "execution_count": 73,
   "id": "c0f25f7d",
   "metadata": {},
   "outputs": [
    {
     "data": {
      "text/html": [
       "<div>\n",
       "<style scoped>\n",
       "    .dataframe tbody tr th:only-of-type {\n",
       "        vertical-align: middle;\n",
       "    }\n",
       "\n",
       "    .dataframe tbody tr th {\n",
       "        vertical-align: top;\n",
       "    }\n",
       "\n",
       "    .dataframe thead th {\n",
       "        text-align: right;\n",
       "    }\n",
       "</style>\n",
       "<table border=\"1\" class=\"dataframe\">\n",
       "  <thead>\n",
       "    <tr style=\"text-align: right;\">\n",
       "      <th></th>\n",
       "      <th>Classifier</th>\n",
       "      <th>F1(Negatives)</th>\n",
       "      <th>F1(Neutrals)</th>\n",
       "      <th>F1(Positives)</th>\n",
       "    </tr>\n",
       "  </thead>\n",
       "  <tbody>\n",
       "    <tr>\n",
       "      <th>0</th>\n",
       "      <td>SVM</td>\n",
       "      <td>0.682661</td>\n",
       "      <td>0.584615</td>\n",
       "      <td>0.753537</td>\n",
       "    </tr>\n",
       "    <tr>\n",
       "      <th>1</th>\n",
       "      <td>Decision Tree</td>\n",
       "      <td>0.487072</td>\n",
       "      <td>0.425657</td>\n",
       "      <td>0.569990</td>\n",
       "    </tr>\n",
       "    <tr>\n",
       "      <th>2</th>\n",
       "      <td>Naive Bayes</td>\n",
       "      <td>0.361184</td>\n",
       "      <td>0.310781</td>\n",
       "      <td>0.489416</td>\n",
       "    </tr>\n",
       "    <tr>\n",
       "      <th>3</th>\n",
       "      <td>Logistic Regression</td>\n",
       "      <td>0.684341</td>\n",
       "      <td>0.588945</td>\n",
       "      <td>0.757709</td>\n",
       "    </tr>\n",
       "  </tbody>\n",
       "</table>\n",
       "</div>"
      ],
      "text/plain": [
       "            Classifier  F1(Negatives)  F1(Neutrals)  F1(Positives)\n",
       "0                  SVM       0.682661      0.584615       0.753537\n",
       "1        Decision Tree       0.487072      0.425657       0.569990\n",
       "2          Naive Bayes       0.361184      0.310781       0.489416\n",
       "3  Logistic Regression       0.684341      0.588945       0.757709"
      ]
     },
     "execution_count": 73,
     "metadata": {},
     "output_type": "execute_result"
    }
   ],
   "source": [
    "from sklearn.metrics import f1_score\n",
    "\n",
    "f1_svm = f1_score(test_y, clf_svm.predict(test_x_vectors), average=None, labels=[\"NEGATIVE\", \"NEUTRAL\", \"POSITIVE\"])\n",
    "f1_tree = f1_score(test_y, clf_tree.predict(test_x_vectors), average=None, labels=[\"NEGATIVE\", \"NEUTRAL\", \"POSITIVE\"])\n",
    "f1_nb = f1_score(test_y, clf_nb.predict(test_x_vectors.toarray()), average=None, labels=[\"NEGATIVE\", \"NEUTRAL\", \"POSITIVE\"])\n",
    "f1_log = f1_score(test_y, clf_log.predict(test_x_vectors), average=None, labels=[\"NEGATIVE\", \"NEUTRAL\", \"POSITIVE\"])\n",
    "\n",
    "f1_scores = [\n",
    "    [\"SVM\", f1_svm[0], f1_svm[1], f1_svm[2]],\n",
    "    [\"Decision Tree\", f1_tree[0], f1_tree[1], f1_tree[2]],\n",
    "    [\"Naive Bayes\", f1_nb[0], f1_nb[1], f1_nb[2]],\n",
    "    [\"Logistic Regression\", f1_log[0], f1_log[1], f1_log[2]],\n",
    "]\n",
    "\n",
    "pd.DataFrame(data=f1_scores, columns=[\"Classifier\", \"F1(Negatives)\", \"F1(Neutrals)\", \"F1(Positives)\"])"
   ]
  },
  {
   "cell_type": "code",
   "execution_count": 74,
   "id": "f13a5817",
   "metadata": {},
   "outputs": [
    {
     "data": {
      "text/plain": [
       "<AxesSubplot:>"
      ]
     },
     "execution_count": 74,
     "metadata": {},
     "output_type": "execute_result"
    },
    {
     "data": {
      "image/png": "[encoded data removed]",
      "text/plain": [
       "<Figure size 432x288 with 2 Axes>"
      ]
     },
     "metadata": {
      "needs_background": "light"
     },
     "output_type": "display_data"
    }
   ],
   "source": [
    "from sklearn.metrics import confusion_matrix\n",
    "import seaborn as sn\n",
    "import matplotlib as plt\n",
    "\n",
    "predictions = clf_log.predict(test_x_vectors)\n",
    "\n",
    "labels = [\"NEGATIVE\", \"NEUTRAL\", \"POSITIVE\"]\n",
    "\n",
    "cm = confusion_matrix(test_y, predictions, labels=labels)\n",
    "df_cm = pd.DataFrame(cm, columns=labels)\n",
    "\n",
    "sn.heatmap(df_cm, annot=True, fmt=\"d\")"
   ]
  },
  {
   "cell_type": "markdown",
   "id": "d81b1979",
   "metadata": {},
   "source": [
    "### 6. Improvements"
   ]
  },
  {
   "cell_type": "markdown",
   "id": "bff8d287",
   "metadata": {},
   "source": [
    "#### 6.1. Even the number of labels\n",
    "After running this improvement, run everything from section 3 to 5 to get the new results"
   ]
  },
  {
   "cell_type": "code",
   "execution_count": 55,
   "id": "be507d05",
   "metadata": {
    "scrolled": true
   },
   "outputs": [
    {
     "name": "stdout",
     "output_type": "stream",
     "text": [
      "Label counts in Training Set:\n",
      " feedback\n",
      "POSITIVE    56782\n",
      "NEUTRAL      6029\n",
      "NEGATIVE     4189\n",
      "dtype: int64 \n",
      "\n",
      "Label counts in Test Set:\n",
      " feedback\n",
      "POSITIVE    28012\n",
      "NEUTRAL      2971\n",
      "NEGATIVE     2017\n",
      "dtype: int64\n"
     ]
    }
   ],
   "source": [
    "# Count labels in each set\n",
    "train_count = train_y.value_counts(\"feedback\")\n",
    "test_count = test_y.value_counts(\"feedback\")\n",
    "\n",
    "print(\"Label counts in Training Set:\\n\", train_count, \"\\n\")\n",
    "print(\"Label counts in Test Set:\\n\", test_count)"
   ]
  },
  {
   "cell_type": "code",
   "execution_count": 56,
   "id": "248be0a1",
   "metadata": {},
   "outputs": [],
   "source": [
    "# Clearly, there's way too many positive reviews. Let's even it out\n",
    "def even_labels(df):\n",
    "    positives = df[df[\"feedback\"] == \"POSITIVE\"]\n",
    "    neutrals = df[df[\"feedback\"] == \"NEUTRAL\"]\n",
    "    negatives = df[df[\"feedback\"] == \"NEGATIVE\"]\n",
    "\n",
    "    count_negatives = df.value_counts(\"feedback\")[2]\n",
    "    positives = positives[:count_negatives]\n",
    "    neutrals = neutrals[:count_negatives]\n",
    "    \n",
    "    shrunk_df = positives.append(neutrals).append(negatives)\n",
    "    \n",
    "    shuffled_df = shrunk_df.sample(frac=1).reset_index(drop=True)\n",
    "    \n",
    "    return shuffled_df[[\"reviewText\"]], shuffled_df[[\"feedback\"]]\n",
    "\n",
    "# The new training and test sets are ready for training\n",
    "train_x, train_y = even_labels(train)\n",
    "test_x, test_y = even_labels(test)"
   ]
  },
  {
   "cell_type": "markdown",
   "id": "9fe51a3b",
   "metadata": {},
   "source": [
    "#### 6.2. Prioritize certain tokens\n",
    "After running this improvement, run everything from section 4 and 5 to get the new results"
   ]
  },
  {
   "cell_type": "code",
   "execution_count": 57,
   "id": "43b074bc",
   "metadata": {},
   "outputs": [],
   "source": [
    "from sklearn.feature_extraction.text import TfidfVectorizer\n",
    "\n",
    "vectorizer = TfidfVectorizer()\n",
    "train_x_vectors = vectorizer.fit_transform(train_x[\"reviewText\"].values.astype('U'))\n",
    "test_x_vectors = vectorizer.transform(test_x[\"reviewText\"].values.astype('U'))"
   ]
  },
  {
   "cell_type": "markdown",
   "id": "998720a1",
   "metadata": {},
   "source": [
    "#### 6.3. Apply Grid Search\n",
    "After running this improvement, run everything from section 4 and 5 to get the new results"
   ]
  },
  {
   "cell_type": "code",
   "execution_count": null,
   "id": "73c833a8",
   "metadata": {},
   "outputs": [],
   "source": [
    "from sklearn.model_selection import GridSearchCV\n",
    "\n",
    "parameters = {\n",
    "    \"kernel\": (\"linear\", \"rbf\"),\n",
    "    \"C\": (1,4,8,16,32)\n",
    "}\n",
    "\n",
    "svc = svm.SVC()\n",
    "tuned_clf = GridSearchCV(svc, parameters, cv=5)\n",
    "tuned_clf.fit(train_x_vectors, train_y.values.ravel())"
   ]
  },
  {
   "cell_type": "markdown",
   "id": "ba6342ae",
   "metadata": {},
   "source": [
    "### 7. Testing"
   ]
  },
  {
   "cell_type": "code",
   "execution_count": 67,
   "id": "602ba078",
   "metadata": {},
   "outputs": [
    {
     "data": {
      "text/plain": [
       "array(['POSITIVE', 'NEGATIVE', 'NEUTRAL'], dtype=object)"
      ]
     },
     "execution_count": 67,
     "metadata": {},
     "output_type": "execute_result"
    }
   ],
   "source": [
    "new_examples = [\n",
    "    \"This book is amazing! 5 stars\", \n",
    "    \"Waste of time, don't buy this book\", \n",
    "    \"Meh, could have been better\"\n",
    "]\n",
    "\n",
    "vectorized_examples = vectorizer.transform(new_examples)\n",
    "\n",
    "clf_svm.predict(vectorized_examples)"
   ]
  },
  {
   "cell_type": "markdown",
   "id": "33f4479e",
   "metadata": {},
   "source": [
    "### 8. Model Persistence"
   ]
  },
  {
   "cell_type": "markdown",
   "id": "d0c8ad7c",
   "metadata": {},
   "source": [
    "#### 8.1. Saving Model"
   ]
  },
  {
   "cell_type": "code",
   "execution_count": 69,
   "id": "0d538e21",
   "metadata": {},
   "outputs": [],
   "source": [
    "import pickle\n",
    "\n",
    "with open(\"./models/feedback_classifier.pkl\", \"wb\") as f:\n",
    "    pickle.dump(clf_svm, f)"
   ]
  },
  {
   "cell_type": "markdown",
   "id": "7854379d",
   "metadata": {},
   "source": [
    "#### 8.2. Loading Model"
   ]
  },
  {
   "cell_type": "code",
   "execution_count": 70,
   "id": "26bfc514",
   "metadata": {},
   "outputs": [],
   "source": [
    "with open(\"./models/feedback_classifier.pkl\", \"rb\") as f:\n",
    "    loaded_clf = pickle.load(f)"
   ]
  }
 ],
 "metadata": {
  "kernelspec": {
   "display_name": "Python 3",
   "language": "python",
   "name": "python3"
  },
  "language_info": {
   "codemirror_mode": {
    "name": "ipython",
    "version": 3
   },
   "file_extension": ".py",
   "mimetype": "text/x-python",
   "name": "python",
   "nbconvert_exporter": "python",
   "pygments_lexer": "ipython3",
   "version": "3.8.8"
  }
 },
 "nbformat": 4,
 "nbformat_minor": 5
}
