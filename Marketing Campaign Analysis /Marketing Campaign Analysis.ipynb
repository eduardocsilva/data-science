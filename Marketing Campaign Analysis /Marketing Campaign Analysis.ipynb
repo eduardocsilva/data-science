{
 "cells": [
  {
   "cell_type": "markdown",
   "id": "aa8b72ed",
   "metadata": {},
   "source": [
    "# Marketing Campaign Analysis\n",
    "\n",
    "Reviews retrieved from the following Kaggle [dataset](https://www.kaggle.com/rodsaldanha/arketing-campaign)."
   ]
  },
  {
   "cell_type": "markdown",
   "id": "cf31d8e4",
   "metadata": {},
   "source": [
    "### 0. Import Libraries"
   ]
  },
  {
   "cell_type": "code",
   "execution_count": 1,
   "id": "0b29b11f",
   "metadata": {},
   "outputs": [],
   "source": [
    "import numpy as np\n",
    "import pandas as pd\n",
    "import seaborn as sns\n",
    "import matplotlib\n",
    "import matplotlib.pyplot as plt\n",
    "from sklearn.linear_model import LassoCV\n",
    "from sklearn.model_selection import train_test_split\n",
    "from sklearn.metrics import f1_score\n",
    "from sklearn.preprocessing import StandardScaler\n",
    "\n",
    "# Ignore future warnings\n",
    "import warnings\n",
    "warnings.simplefilter(action='ignore', category=FutureWarning)"
   ]
  },
  {
   "cell_type": "markdown",
   "id": "c8c09a67",
   "metadata": {},
   "source": [
    "### 1. Load Data"
   ]
  },
  {
   "cell_type": "code",
   "execution_count": 2,
   "id": "6929d403",
   "metadata": {},
   "outputs": [],
   "source": [
    "data = pd.read_csv(\"data.csv\", delimiter=\";\")"
   ]
  },
  {
   "cell_type": "code",
   "execution_count": 3,
   "id": "b4e2bd5f",
   "metadata": {},
   "outputs": [
    {
     "data": {
      "text/html": [
       "<div>\n",
       "<style scoped>\n",
       "    .dataframe tbody tr th:only-of-type {\n",
       "        vertical-align: middle;\n",
       "    }\n",
       "\n",
       "    .dataframe tbody tr th {\n",
       "        vertical-align: top;\n",
       "    }\n",
       "\n",
       "    .dataframe thead th {\n",
       "        text-align: right;\n",
       "    }\n",
       "</style>\n",
       "<table border=\"1\" class=\"dataframe\">\n",
       "  <thead>\n",
       "    <tr style=\"text-align: right;\">\n",
       "      <th></th>\n",
       "      <th>ID</th>\n",
       "      <th>Year_Birth</th>\n",
       "      <th>Education</th>\n",
       "      <th>Marital_Status</th>\n",
       "      <th>Income</th>\n",
       "      <th>Kidhome</th>\n",
       "      <th>Teenhome</th>\n",
       "      <th>Dt_Customer</th>\n",
       "      <th>Recency</th>\n",
       "      <th>MntWines</th>\n",
       "      <th>...</th>\n",
       "      <th>NumWebVisitsMonth</th>\n",
       "      <th>AcceptedCmp3</th>\n",
       "      <th>AcceptedCmp4</th>\n",
       "      <th>AcceptedCmp5</th>\n",
       "      <th>AcceptedCmp1</th>\n",
       "      <th>AcceptedCmp2</th>\n",
       "      <th>Complain</th>\n",
       "      <th>Z_CostContact</th>\n",
       "      <th>Z_Revenue</th>\n",
       "      <th>Response</th>\n",
       "    </tr>\n",
       "  </thead>\n",
       "  <tbody>\n",
       "    <tr>\n",
       "      <th>0</th>\n",
       "      <td>5524</td>\n",
       "      <td>1957</td>\n",
       "      <td>Graduation</td>\n",
       "      <td>Single</td>\n",
       "      <td>58138.0</td>\n",
       "      <td>0</td>\n",
       "      <td>0</td>\n",
       "      <td>2012-09-04</td>\n",
       "      <td>58</td>\n",
       "      <td>635</td>\n",
       "      <td>...</td>\n",
       "      <td>7</td>\n",
       "      <td>0</td>\n",
       "      <td>0</td>\n",
       "      <td>0</td>\n",
       "      <td>0</td>\n",
       "      <td>0</td>\n",
       "      <td>0</td>\n",
       "      <td>3</td>\n",
       "      <td>11</td>\n",
       "      <td>1</td>\n",
       "    </tr>\n",
       "    <tr>\n",
       "      <th>1</th>\n",
       "      <td>2174</td>\n",
       "      <td>1954</td>\n",
       "      <td>Graduation</td>\n",
       "      <td>Single</td>\n",
       "      <td>46344.0</td>\n",
       "      <td>1</td>\n",
       "      <td>1</td>\n",
       "      <td>2014-03-08</td>\n",
       "      <td>38</td>\n",
       "      <td>11</td>\n",
       "      <td>...</td>\n",
       "      <td>5</td>\n",
       "      <td>0</td>\n",
       "      <td>0</td>\n",
       "      <td>0</td>\n",
       "      <td>0</td>\n",
       "      <td>0</td>\n",
       "      <td>0</td>\n",
       "      <td>3</td>\n",
       "      <td>11</td>\n",
       "      <td>0</td>\n",
       "    </tr>\n",
       "    <tr>\n",
       "      <th>2</th>\n",
       "      <td>4141</td>\n",
       "      <td>1965</td>\n",
       "      <td>Graduation</td>\n",
       "      <td>Together</td>\n",
       "      <td>71613.0</td>\n",
       "      <td>0</td>\n",
       "      <td>0</td>\n",
       "      <td>2013-08-21</td>\n",
       "      <td>26</td>\n",
       "      <td>426</td>\n",
       "      <td>...</td>\n",
       "      <td>4</td>\n",
       "      <td>0</td>\n",
       "      <td>0</td>\n",
       "      <td>0</td>\n",
       "      <td>0</td>\n",
       "      <td>0</td>\n",
       "      <td>0</td>\n",
       "      <td>3</td>\n",
       "      <td>11</td>\n",
       "      <td>0</td>\n",
       "    </tr>\n",
       "    <tr>\n",
       "      <th>3</th>\n",
       "      <td>6182</td>\n",
       "      <td>1984</td>\n",
       "      <td>Graduation</td>\n",
       "      <td>Together</td>\n",
       "      <td>26646.0</td>\n",
       "      <td>1</td>\n",
       "      <td>0</td>\n",
       "      <td>2014-02-10</td>\n",
       "      <td>26</td>\n",
       "      <td>11</td>\n",
       "      <td>...</td>\n",
       "      <td>6</td>\n",
       "      <td>0</td>\n",
       "      <td>0</td>\n",
       "      <td>0</td>\n",
       "      <td>0</td>\n",
       "      <td>0</td>\n",
       "      <td>0</td>\n",
       "      <td>3</td>\n",
       "      <td>11</td>\n",
       "      <td>0</td>\n",
       "    </tr>\n",
       "    <tr>\n",
       "      <th>4</th>\n",
       "      <td>5324</td>\n",
       "      <td>1981</td>\n",
       "      <td>PhD</td>\n",
       "      <td>Married</td>\n",
       "      <td>58293.0</td>\n",
       "      <td>1</td>\n",
       "      <td>0</td>\n",
       "      <td>2014-01-19</td>\n",
       "      <td>94</td>\n",
       "      <td>173</td>\n",
       "      <td>...</td>\n",
       "      <td>5</td>\n",
       "      <td>0</td>\n",
       "      <td>0</td>\n",
       "      <td>0</td>\n",
       "      <td>0</td>\n",
       "      <td>0</td>\n",
       "      <td>0</td>\n",
       "      <td>3</td>\n",
       "      <td>11</td>\n",
       "      <td>0</td>\n",
       "    </tr>\n",
       "  </tbody>\n",
       "</table>\n",
       "<p>5 rows × 29 columns</p>\n",
       "</div>"
      ],
      "text/plain": [
       "     ID  Year_Birth   Education Marital_Status   Income  Kidhome  Teenhome  \\\n",
       "0  5524        1957  Graduation         Single  58138.0        0         0   \n",
       "1  2174        1954  Graduation         Single  46344.0        1         1   \n",
       "2  4141        1965  Graduation       Together  71613.0        0         0   \n",
       "3  6182        1984  Graduation       Together  26646.0        1         0   \n",
       "4  5324        1981         PhD        Married  58293.0        1         0   \n",
       "\n",
       "  Dt_Customer  Recency  MntWines  ...  NumWebVisitsMonth  AcceptedCmp3  \\\n",
       "0  2012-09-04       58       635  ...                  7             0   \n",
       "1  2014-03-08       38        11  ...                  5             0   \n",
       "2  2013-08-21       26       426  ...                  4             0   \n",
       "3  2014-02-10       26        11  ...                  6             0   \n",
       "4  2014-01-19       94       173  ...                  5             0   \n",
       "\n",
       "   AcceptedCmp4  AcceptedCmp5  AcceptedCmp1  AcceptedCmp2  Complain  \\\n",
       "0             0             0             0             0         0   \n",
       "1             0             0             0             0         0   \n",
       "2             0             0             0             0         0   \n",
       "3             0             0             0             0         0   \n",
       "4             0             0             0             0         0   \n",
       "\n",
       "   Z_CostContact  Z_Revenue  Response  \n",
       "0              3         11         1  \n",
       "1              3         11         0  \n",
       "2              3         11         0  \n",
       "3              3         11         0  \n",
       "4              3         11         0  \n",
       "\n",
       "[5 rows x 29 columns]"
      ]
     },
     "execution_count": 3,
     "metadata": {},
     "output_type": "execute_result"
    }
   ],
   "source": [
    "data.head()"
   ]
  },
  {
   "cell_type": "markdown",
   "id": "27512392",
   "metadata": {},
   "source": [
    "### 2. Exploratory Data Analysis and Data Cleaning"
   ]
  },
  {
   "cell_type": "markdown",
   "id": "a5c2e363",
   "metadata": {},
   "source": [
    "Let's analyse some of the client's features (i.e. year of birth, education, marital status and income) and analyse the correlation between them and the campaign acceptance."
   ]
  },
  {
   "cell_type": "markdown",
   "id": "2d1f3954",
   "metadata": {},
   "source": [
    "#### 2.1. Check for missing data"
   ]
  },
  {
   "cell_type": "code",
   "execution_count": 4,
   "id": "33560438",
   "metadata": {},
   "outputs": [
    {
     "name": "stdout",
     "output_type": "stream",
     "text": [
      "Missing data [%]\n"
     ]
    },
    {
     "data": {
      "text/plain": [
       "ID                     0.0000\n",
       "Year_Birth             0.0000\n",
       "Education              0.0000\n",
       "Marital_Status         0.0000\n",
       "Income                 1.0714\n",
       "Kidhome                0.0000\n",
       "Teenhome               0.0000\n",
       "Dt_Customer            0.0000\n",
       "Recency                0.0000\n",
       "MntWines               0.0000\n",
       "MntFruits              0.0000\n",
       "MntMeatProducts        0.0000\n",
       "MntFishProducts        0.0000\n",
       "MntSweetProducts       0.0000\n",
       "MntGoldProds           0.0000\n",
       "NumDealsPurchases      0.0000\n",
       "NumWebPurchases        0.0000\n",
       "NumCatalogPurchases    0.0000\n",
       "NumStorePurchases      0.0000\n",
       "NumWebVisitsMonth      0.0000\n",
       "AcceptedCmp3           0.0000\n",
       "AcceptedCmp4           0.0000\n",
       "AcceptedCmp5           0.0000\n",
       "AcceptedCmp1           0.0000\n",
       "AcceptedCmp2           0.0000\n",
       "Complain               0.0000\n",
       "Z_CostContact          0.0000\n",
       "Z_Revenue              0.0000\n",
       "Response               0.0000\n",
       "dtype: float64"
      ]
     },
     "execution_count": 4,
     "metadata": {},
     "output_type": "execute_result"
    }
   ],
   "source": [
    "print('Missing data [%]')\n",
    "round(data.isnull().sum() / len(data) * 100, 4)"
   ]
  },
  {
   "cell_type": "markdown",
   "id": "5376622f",
   "metadata": {},
   "source": [
    "As we can see, the dataset is doesn't have a lot of missing data, mostly income, which is understable, as it is a sensitive information."
   ]
  },
  {
   "cell_type": "code",
   "execution_count": 5,
   "id": "6d88545e",
   "metadata": {},
   "outputs": [],
   "source": [
    "data[\"Income\"] = data[\"Income\"].fillna(0)"
   ]
  },
  {
   "cell_type": "markdown",
   "id": "284cf173",
   "metadata": {},
   "source": [
    "Let's add a column that specifies if the client has accepted any campaign (0 if none of them were accepted)."
   ]
  },
  {
   "cell_type": "code",
   "execution_count": 6,
   "id": "610ed9f7",
   "metadata": {},
   "outputs": [
    {
     "data": {
      "text/html": [
       "<div>\n",
       "<style scoped>\n",
       "    .dataframe tbody tr th:only-of-type {\n",
       "        vertical-align: middle;\n",
       "    }\n",
       "\n",
       "    .dataframe tbody tr th {\n",
       "        vertical-align: top;\n",
       "    }\n",
       "\n",
       "    .dataframe thead th {\n",
       "        text-align: right;\n",
       "    }\n",
       "</style>\n",
       "<table border=\"1\" class=\"dataframe\">\n",
       "  <thead>\n",
       "    <tr style=\"text-align: right;\">\n",
       "      <th></th>\n",
       "      <th>ID</th>\n",
       "      <th>Year_Birth</th>\n",
       "      <th>Education</th>\n",
       "      <th>Marital_Status</th>\n",
       "      <th>Income</th>\n",
       "      <th>Kidhome</th>\n",
       "      <th>Teenhome</th>\n",
       "      <th>Dt_Customer</th>\n",
       "      <th>Recency</th>\n",
       "      <th>MntWines</th>\n",
       "      <th>...</th>\n",
       "      <th>AcceptedCmp3</th>\n",
       "      <th>AcceptedCmp4</th>\n",
       "      <th>AcceptedCmp5</th>\n",
       "      <th>AcceptedCmp1</th>\n",
       "      <th>AcceptedCmp2</th>\n",
       "      <th>Complain</th>\n",
       "      <th>Z_CostContact</th>\n",
       "      <th>Z_Revenue</th>\n",
       "      <th>Response</th>\n",
       "      <th>AcceptedAnyCmp</th>\n",
       "    </tr>\n",
       "  </thead>\n",
       "  <tbody>\n",
       "    <tr>\n",
       "      <th>0</th>\n",
       "      <td>5524</td>\n",
       "      <td>1957</td>\n",
       "      <td>Graduation</td>\n",
       "      <td>Single</td>\n",
       "      <td>58138.0</td>\n",
       "      <td>0</td>\n",
       "      <td>0</td>\n",
       "      <td>2012-09-04</td>\n",
       "      <td>58</td>\n",
       "      <td>635</td>\n",
       "      <td>...</td>\n",
       "      <td>0</td>\n",
       "      <td>0</td>\n",
       "      <td>0</td>\n",
       "      <td>0</td>\n",
       "      <td>0</td>\n",
       "      <td>0</td>\n",
       "      <td>3</td>\n",
       "      <td>11</td>\n",
       "      <td>1</td>\n",
       "      <td>1</td>\n",
       "    </tr>\n",
       "    <tr>\n",
       "      <th>1</th>\n",
       "      <td>2174</td>\n",
       "      <td>1954</td>\n",
       "      <td>Graduation</td>\n",
       "      <td>Single</td>\n",
       "      <td>46344.0</td>\n",
       "      <td>1</td>\n",
       "      <td>1</td>\n",
       "      <td>2014-03-08</td>\n",
       "      <td>38</td>\n",
       "      <td>11</td>\n",
       "      <td>...</td>\n",
       "      <td>0</td>\n",
       "      <td>0</td>\n",
       "      <td>0</td>\n",
       "      <td>0</td>\n",
       "      <td>0</td>\n",
       "      <td>0</td>\n",
       "      <td>3</td>\n",
       "      <td>11</td>\n",
       "      <td>0</td>\n",
       "      <td>0</td>\n",
       "    </tr>\n",
       "    <tr>\n",
       "      <th>2</th>\n",
       "      <td>4141</td>\n",
       "      <td>1965</td>\n",
       "      <td>Graduation</td>\n",
       "      <td>Together</td>\n",
       "      <td>71613.0</td>\n",
       "      <td>0</td>\n",
       "      <td>0</td>\n",
       "      <td>2013-08-21</td>\n",
       "      <td>26</td>\n",
       "      <td>426</td>\n",
       "      <td>...</td>\n",
       "      <td>0</td>\n",
       "      <td>0</td>\n",
       "      <td>0</td>\n",
       "      <td>0</td>\n",
       "      <td>0</td>\n",
       "      <td>0</td>\n",
       "      <td>3</td>\n",
       "      <td>11</td>\n",
       "      <td>0</td>\n",
       "      <td>0</td>\n",
       "    </tr>\n",
       "    <tr>\n",
       "      <th>3</th>\n",
       "      <td>6182</td>\n",
       "      <td>1984</td>\n",
       "      <td>Graduation</td>\n",
       "      <td>Together</td>\n",
       "      <td>26646.0</td>\n",
       "      <td>1</td>\n",
       "      <td>0</td>\n",
       "      <td>2014-02-10</td>\n",
       "      <td>26</td>\n",
       "      <td>11</td>\n",
       "      <td>...</td>\n",
       "      <td>0</td>\n",
       "      <td>0</td>\n",
       "      <td>0</td>\n",
       "      <td>0</td>\n",
       "      <td>0</td>\n",
       "      <td>0</td>\n",
       "      <td>3</td>\n",
       "      <td>11</td>\n",
       "      <td>0</td>\n",
       "      <td>0</td>\n",
       "    </tr>\n",
       "    <tr>\n",
       "      <th>4</th>\n",
       "      <td>5324</td>\n",
       "      <td>1981</td>\n",
       "      <td>PhD</td>\n",
       "      <td>Married</td>\n",
       "      <td>58293.0</td>\n",
       "      <td>1</td>\n",
       "      <td>0</td>\n",
       "      <td>2014-01-19</td>\n",
       "      <td>94</td>\n",
       "      <td>173</td>\n",
       "      <td>...</td>\n",
       "      <td>0</td>\n",
       "      <td>0</td>\n",
       "      <td>0</td>\n",
       "      <td>0</td>\n",
       "      <td>0</td>\n",
       "      <td>0</td>\n",
       "      <td>3</td>\n",
       "      <td>11</td>\n",
       "      <td>0</td>\n",
       "      <td>0</td>\n",
       "    </tr>\n",
       "  </tbody>\n",
       "</table>\n",
       "<p>5 rows × 30 columns</p>\n",
       "</div>"
      ],
      "text/plain": [
       "     ID  Year_Birth   Education Marital_Status   Income  Kidhome  Teenhome  \\\n",
       "0  5524        1957  Graduation         Single  58138.0        0         0   \n",
       "1  2174        1954  Graduation         Single  46344.0        1         1   \n",
       "2  4141        1965  Graduation       Together  71613.0        0         0   \n",
       "3  6182        1984  Graduation       Together  26646.0        1         0   \n",
       "4  5324        1981         PhD        Married  58293.0        1         0   \n",
       "\n",
       "  Dt_Customer  Recency  MntWines  ...  AcceptedCmp3  AcceptedCmp4  \\\n",
       "0  2012-09-04       58       635  ...             0             0   \n",
       "1  2014-03-08       38        11  ...             0             0   \n",
       "2  2013-08-21       26       426  ...             0             0   \n",
       "3  2014-02-10       26        11  ...             0             0   \n",
       "4  2014-01-19       94       173  ...             0             0   \n",
       "\n",
       "   AcceptedCmp5  AcceptedCmp1  AcceptedCmp2  Complain  Z_CostContact  \\\n",
       "0             0             0             0         0              3   \n",
       "1             0             0             0         0              3   \n",
       "2             0             0             0         0              3   \n",
       "3             0             0             0         0              3   \n",
       "4             0             0             0         0              3   \n",
       "\n",
       "   Z_Revenue  Response  AcceptedAnyCmp  \n",
       "0         11         1               1  \n",
       "1         11         0               0  \n",
       "2         11         0               0  \n",
       "3         11         0               0  \n",
       "4         11         0               0  \n",
       "\n",
       "[5 rows x 30 columns]"
      ]
     },
     "execution_count": 6,
     "metadata": {},
     "output_type": "execute_result"
    }
   ],
   "source": [
    "conditions = [\n",
    "    (data[\"AcceptedCmp1\"] == 1) |\n",
    "    (data[\"AcceptedCmp2\"] == 1) |\n",
    "    (data[\"AcceptedCmp3\"] == 1) |\n",
    "    (data[\"AcceptedCmp4\"] == 1) |\n",
    "    (data[\"AcceptedCmp5\"] == 1) |\n",
    "    (data[\"Response\"] == 1)\n",
    "]\n",
    "\n",
    "data['AcceptedAnyCmp'] = np.select(conditions, [1], default=0)\n",
    "\n",
    "data.head()"
   ]
  },
  {
   "cell_type": "markdown",
   "id": "fa715099",
   "metadata": {},
   "source": [
    "#### 2.2. Date of Birth Analysis"
   ]
  },
  {
   "cell_type": "code",
   "execution_count": 7,
   "id": "e73e781e",
   "metadata": {
    "scrolled": true
   },
   "outputs": [
    {
     "name": "stdout",
     "output_type": "stream",
     "text": [
      "Number of clients: 2240\n"
     ]
    }
   ],
   "source": [
    "print(f\"Number of clients: {data.ID.nunique()}\")"
   ]
  },
  {
   "cell_type": "code",
   "execution_count": 8,
   "id": "f6067cd6",
   "metadata": {},
   "outputs": [
    {
     "data": {
      "image/png": "[encoded data removed]",
      "text/plain": [
       "<Figure size 432x288 with 1 Axes>"
      ]
     },
     "metadata": {
      "needs_background": "light"
     },
     "output_type": "display_data"
    }
   ],
   "source": [
    "sns.distplot(data[\"Year_Birth\"], kde=False, label=\"Age\").set_title(\"Date of Birth from Clients\")\n",
    "plt.show()"
   ]
  },
  {
   "cell_type": "markdown",
   "id": "65deb113",
   "metadata": {},
   "source": [
    "As we can see, there are a few outliers, which were born before 1940. I don't believe that these clients are very relevant for this study, so they will be removed."
   ]
  },
  {
   "cell_type": "code",
   "execution_count": 9,
   "id": "acf27733",
   "metadata": {},
   "outputs": [
    {
     "name": "stdout",
     "output_type": "stream",
     "text": [
      "There seem to be 3 people that were born before 1935.\n"
     ]
    }
   ],
   "source": [
    "outliers = sum(data[\"Year_Birth\"] < 1935)\n",
    "print(f\"There seem to be {outliers} people that were born before 1935.\")"
   ]
  },
  {
   "cell_type": "code",
   "execution_count": 10,
   "id": "e7ec85ba",
   "metadata": {},
   "outputs": [],
   "source": [
    "data = data.drop(data[data[\"Year_Birth\"] < 1935].index)"
   ]
  },
  {
   "cell_type": "code",
   "execution_count": 11,
   "id": "a2101cc5",
   "metadata": {
    "scrolled": true
   },
   "outputs": [
    {
     "data": {
      "image/png": "[encoded data removed]",
      "text/plain": [
       "<Figure size 432x288 with 1 Axes>"
      ]
     },
     "metadata": {
      "needs_background": "light"
     },
     "output_type": "display_data"
    }
   ],
   "source": [
    "sns.distplot(data[\"Year_Birth\"], kde=False, label=\"Age\").set_title(\"Date of Birth distribution\")\n",
    "plt.show()"
   ]
  },
  {
   "cell_type": "markdown",
   "id": "2ebff3da",
   "metadata": {},
   "source": [
    "#### 2.3. Education Analysis"
   ]
  },
  {
   "cell_type": "code",
   "execution_count": 12,
   "id": "ea4f662d",
   "metadata": {},
   "outputs": [
    {
     "data": {
      "image/png": "[encoded data removed]",
      "text/plain": [
       "<Figure size 432x288 with 1 Axes>"
      ]
     },
     "metadata": {
      "needs_background": "light"
     },
     "output_type": "display_data"
    }
   ],
   "source": [
    "sns.countplot(x=data[\"Education\"]).set_title(\"Education frequency\")\n",
    "plt.show()"
   ]
  },
  {
   "cell_type": "markdown",
   "id": "f3c3d507",
   "metadata": {},
   "source": [
    "The majority of clients seem to be graduates, followed by a significant portion of clients with a PhD and MSc."
   ]
  },
  {
   "cell_type": "markdown",
   "id": "54101647",
   "metadata": {},
   "source": [
    "#### 2.4. Martial Status Analysis"
   ]
  },
  {
   "cell_type": "code",
   "execution_count": 13,
   "id": "9b88ecec",
   "metadata": {
    "scrolled": true
   },
   "outputs": [
    {
     "data": {
      "image/png": "[encoded data removed]",
      "text/plain": [
       "<Figure size 432x288 with 1 Axes>"
      ]
     },
     "metadata": {
      "needs_background": "light"
     },
     "output_type": "display_data"
    }
   ],
   "source": [
    "sns.countplot(x=data[\"Marital_Status\"], label=\"Marital Status\").set_title(\"Marital Status frequency\")\n",
    "plt.show()"
   ]
  },
  {
   "cell_type": "markdown",
   "id": "67966935",
   "metadata": {},
   "source": [
    "There seem to be a few marital status that don't really make sense in the scope of this study, so they should be ignored."
   ]
  },
  {
   "cell_type": "code",
   "execution_count": 14,
   "id": "65020ad1",
   "metadata": {},
   "outputs": [
    {
     "name": "stdout",
     "output_type": "stream",
     "text": [
      "There seem to be 7 people with a marital status that should be ignored.\n"
     ]
    }
   ],
   "source": [
    "ignored_status = [\"Alone\", \"Absurd\", \"YOLO\"]\n",
    "outliers = sum(data[\"Marital_Status\"].isin(ignored_status))\n",
    "print(f\"There seem to be {outliers} people with a marital status that should be ignored.\")"
   ]
  },
  {
   "cell_type": "code",
   "execution_count": 15,
   "id": "753e1bfe",
   "metadata": {},
   "outputs": [],
   "source": [
    "data = data.drop(data[data[\"Marital_Status\"].isin(ignored_status)].index)"
   ]
  },
  {
   "cell_type": "code",
   "execution_count": 16,
   "id": "5406f6e1",
   "metadata": {
    "scrolled": true
   },
   "outputs": [
    {
     "data": {
      "image/png": "[encoded data removed]",
      "text/plain": [
       "<Figure size 432x288 with 1 Axes>"
      ]
     },
     "metadata": {
      "needs_background": "light"
     },
     "output_type": "display_data"
    }
   ],
   "source": [
    "sns.countplot(x=data[\"Marital_Status\"], label=\"Marital Status\").set_title(\"Marital Status frequency\")\n",
    "plt.show()"
   ]
  },
  {
   "cell_type": "markdown",
   "id": "099b4ff5",
   "metadata": {},
   "source": [
    "#### 2.5. Annual Income Analysis"
   ]
  },
  {
   "cell_type": "code",
   "execution_count": 17,
   "id": "447c51f2",
   "metadata": {
    "scrolled": true
   },
   "outputs": [
    {
     "data": {
      "image/png": "[encoded data removed]",
      "text/plain": [
       "<Figure size 432x288 with 1 Axes>"
      ]
     },
     "metadata": {
      "needs_background": "light"
     },
     "output_type": "display_data"
    }
   ],
   "source": [
    "sns.boxplot(x=data[\"Income\"]).set_title(\"Income distribution\")\n",
    "plt.show()"
   ]
  },
  {
   "cell_type": "markdown",
   "id": "0f942c39",
   "metadata": {},
   "source": [
    "There seem to be a few outliers with an annual income higher than 100k. For this study, these outliers will not be taken into consideration."
   ]
  },
  {
   "cell_type": "code",
   "execution_count": 18,
   "id": "d7780962",
   "metadata": {},
   "outputs": [
    {
     "name": "stdout",
     "output_type": "stream",
     "text": [
      "There seem to be 8 people with an annual income higher than 100k.\n"
     ]
    }
   ],
   "source": [
    "outliers = sum(data[\"Income\"] > 125000)\n",
    "print(f\"There seem to be {outliers} people with an annual income higher than 100k.\")"
   ]
  },
  {
   "cell_type": "code",
   "execution_count": 19,
   "id": "33b977d1",
   "metadata": {},
   "outputs": [],
   "source": [
    "data = data.drop(data[data[\"Income\"] > 125000].index)"
   ]
  },
  {
   "cell_type": "code",
   "execution_count": 20,
   "id": "8975a71e",
   "metadata": {
    "scrolled": false
   },
   "outputs": [
    {
     "data": {
      "image/png": "[encoded data removed]",
      "text/plain": [
       "<Figure size 432x288 with 1 Axes>"
      ]
     },
     "metadata": {
      "needs_background": "light"
     },
     "output_type": "display_data"
    }
   ],
   "source": [
    "sns.boxplot(x=data[\"Income\"]).set_title(\"Income distribution\")\n",
    "plt.show()"
   ]
  },
  {
   "cell_type": "markdown",
   "id": "d4b0a47a",
   "metadata": {},
   "source": [
    "#### 2.6. Feature Correlation Analysis"
   ]
  },
  {
   "cell_type": "code",
   "execution_count": 21,
   "id": "4e17f0a0",
   "metadata": {},
   "outputs": [],
   "source": [
    "# Convert categorical features into a type that can be correlated\n",
    "data[\"Education\"] = data[\"Education\"].astype('category')\n",
    "data[\"Education\"].cat.categories = [0,1,2,3,4]\n",
    "data[\"Education\"] = data[\"Education\"].astype('float')\n",
    "\n",
    "data[\"Marital_Status\"] = data[\"Marital_Status\"].astype('category')\n",
    "data[\"Marital_Status\"].cat.categories = [0,1,2,3,4]\n",
    "data[\"Marital_Status\"] = data[\"Marital_Status\"].astype('float')"
   ]
  },
  {
   "cell_type": "code",
   "execution_count": 22,
   "id": "e8ed9e1e",
   "metadata": {
    "scrolled": true
   },
   "outputs": [
    {
     "data": {
      "text/plain": [
       "AcceptedAnyCmp         1.000000\n",
       "Response               0.683983\n",
       "AcceptedCmp4           0.466047\n",
       "AcceptedCmp3           0.458460\n",
       "AcceptedCmp5           0.456932\n",
       "AcceptedCmp1           0.428764\n",
       "MntWines               0.423647\n",
       "NumCatalogPurchases    0.326071\n",
       "MntMeatProducts        0.313423\n",
       "Income                 0.295541\n",
       "NumWebPurchases        0.214553\n",
       "AcceptedCmp2           0.191257\n",
       "MntGoldProds           0.187027\n",
       "Kidhome                0.168948\n",
       "MntSweetProducts       0.162697\n",
       "MntFishProducts        0.161314\n",
       "NumStorePurchases      0.152489\n",
       "Name: AcceptedAnyCmp, dtype: float64"
      ]
     },
     "execution_count": 22,
     "metadata": {},
     "output_type": "execute_result"
    }
   ],
   "source": [
    "# Get correlation\n",
    "cor = data.corr()\n",
    "\n",
    "#Correlation with output variable\n",
    "cor_target = abs(cor[\"AcceptedAnyCmp\"])\n",
    "\n",
    "#Selecting highly correlated features\n",
    "relevant_features = cor_target[cor_target > 0.15]\n",
    "relevant_features.sort_values(ascending=False)"
   ]
  },
  {
   "cell_type": "markdown",
   "id": "bfb0fb29",
   "metadata": {},
   "source": [
    "Looks like a client's income has a relatively high correlation with the campaign acceptance. On the other hand, the client's education, marital status and year of birth doesn't seem to have much of an impact on the campaign acceptance."
   ]
  },
  {
   "cell_type": "markdown",
   "id": "a6ea1e08",
   "metadata": {},
   "source": [
    "### 3. Campaign Success Analysis"
   ]
  },
  {
   "cell_type": "markdown",
   "id": "04734efd",
   "metadata": {},
   "source": [
    "In this section, a quick analysis of each campaign is made, analysing the same features that were analysed before. This way, we can check if there are specific types of customers that accepted each of the campaigns."
   ]
  },
  {
   "cell_type": "markdown",
   "id": "3773a14d",
   "metadata": {},
   "source": [
    "#### 3.1. General Campaign Performance Analysis"
   ]
  },
  {
   "cell_type": "code",
   "execution_count": 23,
   "id": "5f085dbc",
   "metadata": {
    "scrolled": true
   },
   "outputs": [
    {
     "name": "stdout",
     "output_type": "stream",
     "text": [
      "Number of clients that accepted the 1st campaign: 143\n",
      "Number of clients that accepted the 2nd campaign: 30\n",
      "Number of clients that accepted the 3rd campaign: 162\n",
      "Number of clients that accepted the 4th campaign: 167\n",
      "Number of clients that accepted the 5th campaign: 161\n",
      "Number of clients that accepted the 6th campaign: 331\n",
      "Number of clients that have accepted a campaign: 605\n",
      "Number of clients that didn't accept any campaigns: 1617\n",
      "Number of clients that complained in the last 2 years: 20\n"
     ]
    }
   ],
   "source": [
    "accepted_1 = len(data[data[\"AcceptedCmp1\"] == 1].index)\n",
    "accepted_2 = len(data[data[\"AcceptedCmp2\"] == 1].index)\n",
    "accepted_3 = len(data[data[\"AcceptedCmp3\"] == 1].index)\n",
    "accepted_4 = len(data[data[\"AcceptedCmp4\"] == 1].index)\n",
    "accepted_5 = len(data[data[\"AcceptedCmp5\"] == 1].index)\n",
    "accepted_6 = len(data[data[\"Response\"] == 1].index)\n",
    "accepted_any = len(data[data[\"AcceptedAnyCmp\"] == 1].index)\n",
    "accepted_none = len(data[data[\"AcceptedAnyCmp\"] == 0].index)\n",
    "complained = data.Complain.sum()\n",
    "\n",
    "print(f\"Number of clients that accepted the 1st campaign: {accepted_1}\")\n",
    "print(f\"Number of clients that accepted the 2nd campaign: {accepted_2}\")\n",
    "print(f\"Number of clients that accepted the 3rd campaign: {accepted_3}\")\n",
    "print(f\"Number of clients that accepted the 4th campaign: {accepted_4}\")\n",
    "print(f\"Number of clients that accepted the 5th campaign: {accepted_5}\")\n",
    "print(f\"Number of clients that accepted the 6th campaign: {accepted_6}\")\n",
    "print(f\"Number of clients that have accepted a campaign: {accepted_any}\")\n",
    "print(f\"Number of clients that didn't accept any campaigns: {accepted_none}\")\n",
    "print(f\"Number of clients that complained in the last 2 years: {complained}\")"
   ]
  },
  {
   "cell_type": "markdown",
   "id": "96ef5f66",
   "metadata": {},
   "source": [
    "#### 3.2. First Campaign Analysis"
   ]
  },
  {
   "cell_type": "code",
   "execution_count": 24,
   "id": "8a423ab2",
   "metadata": {
    "scrolled": true
   },
   "outputs": [
    {
     "data": {
      "image/png": "[encoded data removed]",
      "text/plain": [
       "<Figure size 720x720 with 4 Axes>"
      ]
     },
     "metadata": {
      "needs_background": "light"
     },
     "output_type": "display_data"
    }
   ],
   "source": [
    "first_c = data[data.AcceptedCmp1 == 1]\n",
    "\n",
    "f, axes = plt.subplots(2, 2, figsize=(10,10))\n",
    "\n",
    "sns.distplot(first_c[\"Year_Birth\"], kde=False, label=\"Age\", ax=axes[0][0])\n",
    "sns.countplot(x=first_c[\"Education\"], ax=axes[0][1])\n",
    "sns.countplot(x=first_c[\"Marital_Status\"], label=\"Marital Status\", ax=axes[1][0])\n",
    "sns.boxplot(x=first_c[\"Income\"], ax=axes[1][1])\n",
    "\n",
    "plt.show()"
   ]
  },
  {
   "cell_type": "markdown",
   "id": "399c56c0",
   "metadata": {},
   "source": [
    "#### 3.3. Second Campaign Analysis"
   ]
  },
  {
   "cell_type": "code",
   "execution_count": 25,
   "id": "68ff9d5b",
   "metadata": {
    "scrolled": true
   },
   "outputs": [
    {
     "data": {
      "image/png": "[encoded data removed]",
      "text/plain": [
       "<Figure size 720x720 with 4 Axes>"
      ]
     },
     "metadata": {
      "needs_background": "light"
     },
     "output_type": "display_data"
    }
   ],
   "source": [
    "second_c = data[data.AcceptedCmp2 == 1]\n",
    "\n",
    "f, axes = plt.subplots(2, 2, figsize=(10,10))\n",
    "\n",
    "sns.distplot(second_c[\"Year_Birth\"], kde=False, label=\"Age\", ax=axes[0][0])\n",
    "sns.countplot(x=second_c[\"Education\"], ax=axes[0][1])\n",
    "sns.countplot(x=second_c[\"Marital_Status\"], label=\"Marital Status\", ax=axes[1][0])\n",
    "sns.boxplot(x=second_c[\"Income\"], ax=axes[1][1])\n",
    "\n",
    "plt.show()"
   ]
  },
  {
   "cell_type": "markdown",
   "id": "54e15c06",
   "metadata": {},
   "source": [
    "#### 3.4. Third Campaign Analysis"
   ]
  },
  {
   "cell_type": "code",
   "execution_count": 26,
   "id": "491d91a5",
   "metadata": {
    "scrolled": true
   },
   "outputs": [
    {
     "data": {
      "image/png": "[encoded data removed]",
      "text/plain": [
       "<Figure size 720x720 with 4 Axes>"
      ]
     },
     "metadata": {
      "needs_background": "light"
     },
     "output_type": "display_data"
    }
   ],
   "source": [
    "third_c = data[data.AcceptedCmp3 == 1]\n",
    "\n",
    "f, axes = plt.subplots(2, 2, figsize=(10,10))\n",
    "\n",
    "sns.distplot(third_c[\"Year_Birth\"], kde=False, label=\"Age\", ax=axes[0][0])\n",
    "sns.countplot(x=third_c[\"Education\"], ax=axes[0][1])\n",
    "sns.countplot(x=third_c[\"Marital_Status\"], label=\"Marital Status\", ax=axes[1][0])\n",
    "sns.boxplot(x=third_c[\"Income\"], ax=axes[1][1])\n",
    "\n",
    "plt.show()"
   ]
  },
  {
   "cell_type": "markdown",
   "id": "4e0f6085",
   "metadata": {},
   "source": [
    "#### 3.5. Fourth Campaign Analysis"
   ]
  },
  {
   "cell_type": "code",
   "execution_count": 27,
   "id": "3febe6be",
   "metadata": {
    "scrolled": true
   },
   "outputs": [
    {
     "data": {
      "image/png": "[encoded data removed]",
      "text/plain": [
       "<Figure size 720x720 with 4 Axes>"
      ]
     },
     "metadata": {
      "needs_background": "light"
     },
     "output_type": "display_data"
    }
   ],
   "source": [
    "fourth_c = data[data.AcceptedCmp4 == 1]\n",
    "\n",
    "f, axes = plt.subplots(2, 2, figsize=(10,10))\n",
    "\n",
    "sns.distplot(fourth_c[\"Year_Birth\"], kde=False, label=\"Age\", ax=axes[0][0])\n",
    "sns.countplot(x=fourth_c[\"Education\"], ax=axes[0][1])\n",
    "sns.countplot(x=fourth_c[\"Marital_Status\"], label=\"Marital Status\", ax=axes[1][0])\n",
    "sns.boxplot(x=fourth_c[\"Income\"], ax=axes[1][1])\n",
    "\n",
    "plt.show()"
   ]
  },
  {
   "cell_type": "markdown",
   "id": "edd1eac9",
   "metadata": {},
   "source": [
    "#### 3.6. Fifth Campaign Analysis"
   ]
  },
  {
   "cell_type": "code",
   "execution_count": 28,
   "id": "34e32821",
   "metadata": {
    "scrolled": true
   },
   "outputs": [
    {
     "data": {
      "image/png": "[encoded data removed]",
      "text/plain": [
       "<Figure size 720x720 with 4 Axes>"
      ]
     },
     "metadata": {
      "needs_background": "light"
     },
     "output_type": "display_data"
    }
   ],
   "source": [
    "fifth_c = data[data.AcceptedCmp5 == 1]\n",
    "\n",
    "f, axes = plt.subplots(2, 2, figsize=(10,10))\n",
    "\n",
    "sns.distplot(fifth_c[\"Year_Birth\"], kde=False, label=\"Age\", ax=axes[0][0])\n",
    "sns.countplot(x=fifth_c[\"Education\"], ax=axes[0][1])\n",
    "sns.countplot(x=fifth_c[\"Marital_Status\"], label=\"Marital Status\", ax=axes[1][0])\n",
    "sns.boxplot(x=fifth_c[\"Income\"], ax=axes[1][1])\n",
    "\n",
    "plt.show()"
   ]
  },
  {
   "cell_type": "markdown",
   "id": "6e00dbe1",
   "metadata": {},
   "source": [
    "#### 3.7. Sixth Campaign Analysis"
   ]
  },
  {
   "cell_type": "code",
   "execution_count": 29,
   "id": "a07580c8",
   "metadata": {
    "scrolled": true
   },
   "outputs": [
    {
     "data": {
      "image/png": "[encoded data removed]",
      "text/plain": [
       "<Figure size 720x720 with 4 Axes>"
      ]
     },
     "metadata": {
      "needs_background": "light"
     },
     "output_type": "display_data"
    }
   ],
   "source": [
    "sixth_c = data[data.Response == 1]\n",
    "\n",
    "f, axes = plt.subplots(2, 2, figsize=(10,10))\n",
    "\n",
    "sns.distplot(sixth_c[\"Year_Birth\"], kde=False, label=\"Age\", ax=axes[0][0])\n",
    "sns.countplot(x=sixth_c[\"Education\"], ax=axes[0][1])\n",
    "sns.countplot(x=sixth_c[\"Marital_Status\"], label=\"Marital Status\", ax=axes[1][0])\n",
    "sns.boxplot(x=sixth_c[\"Income\"], ax=axes[1][1])\n",
    "\n",
    "plt.show()"
   ]
  },
  {
   "cell_type": "markdown",
   "id": "84b85980",
   "metadata": {},
   "source": [
    "#### 3.8. Clients that didn't accept any Campaign Analysis"
   ]
  },
  {
   "cell_type": "code",
   "execution_count": 30,
   "id": "ffe9c95f",
   "metadata": {
    "scrolled": true
   },
   "outputs": [
    {
     "data": {
      "image/png": "[encoded data removed]",
      "text/plain": [
       "<Figure size 720x720 with 4 Axes>"
      ]
     },
     "metadata": {
      "needs_background": "light"
     },
     "output_type": "display_data"
    }
   ],
   "source": [
    "none_c = data[data.AcceptedAnyCmp == 0]\n",
    "\n",
    "f, axes = plt.subplots(2, 2, figsize=(10,10))\n",
    "\n",
    "sns.distplot(none_c[\"Year_Birth\"], kde=False, label=\"Age\", ax=axes[0][0])\n",
    "sns.countplot(x=none_c[\"Education\"], ax=axes[0][1])\n",
    "sns.countplot(x=none_c[\"Marital_Status\"], label=\"Marital Status\", ax=axes[1][0])\n",
    "sns.boxplot(x=none_c[\"Income\"], ax=axes[1][1])\n",
    "\n",
    "plt.show()"
   ]
  },
  {
   "cell_type": "markdown",
   "id": "bdbbc756",
   "metadata": {},
   "source": [
    "All in all, the 3rd and 6th campaign seem to be the campaigns with the broadest reach.\n",
    "\n",
    "On the other hand, the income seems to be a feature that varies quite a bit from campaign to campaign, which may indicate that some of the campaigns may be more well-suited to a higher range of annual incomes than others, and vice versa. For instance, the 2nd campaign seemed to be more accepted by people with an annual income of 50k+."
   ]
  },
  {
   "cell_type": "markdown",
   "id": "3c24070d",
   "metadata": {},
   "source": [
    "### 4. Campaign Acceptance Predictor"
   ]
  },
  {
   "cell_type": "markdown",
   "id": "f7ff5371",
   "metadata": {},
   "source": [
    "#### 4.1. Relevant Feature Selection\n",
    "\n",
    "Based on the following [article](https://towardsdatascience.com/feature-selection-with-pandas-e3690ad8504b)."
   ]
  },
  {
   "cell_type": "code",
   "execution_count": 31,
   "id": "0dba162a",
   "metadata": {},
   "outputs": [
    {
     "name": "stdout",
     "output_type": "stream",
     "text": [
      "Best alpha using built-in LassoCV: 2.800887\n",
      "Best score using built-in LassoCV: 0.186553\n"
     ]
    }
   ],
   "source": [
    "# Select the most relevant features\n",
    "X = data.loc[:, \"Year_Birth\":\"Teenhome\"].join(data.loc[:, \"Recency\":\"NumWebVisitsMonth\"])\n",
    "y = data[\"AcceptedAnyCmp\"]\n",
    "\n",
    "reg = LassoCV()\n",
    "reg.fit(X, y)\n",
    "print(\"Best alpha using built-in LassoCV: %f\" % reg.alpha_)\n",
    "print(\"Best score using built-in LassoCV: %f\" %reg.score(X,y))\n",
    "coef = pd.Series(reg.coef_, index = X.columns)"
   ]
  },
  {
   "cell_type": "code",
   "execution_count": 32,
   "id": "bf5b7829",
   "metadata": {},
   "outputs": [
    {
     "name": "stdout",
     "output_type": "stream",
     "text": [
      "Lasso picked 3 variables and eliminated the other 15 variables\n"
     ]
    }
   ],
   "source": [
    "print(\"Lasso picked \" + str(sum(coef != 0)) + \" variables and eliminated the other \" +  str(sum(coef == 0)) + \" variables\")"
   ]
  },
  {
   "cell_type": "code",
   "execution_count": 33,
   "id": "f8260e7e",
   "metadata": {
    "scrolled": true
   },
   "outputs": [
    {
     "data": {
      "image/png": "[encoded data removed]",
      "text/plain": [
       "<Figure size 576x720 with 1 Axes>"
      ]
     },
     "metadata": {
      "needs_background": "light"
     },
     "output_type": "display_data"
    }
   ],
   "source": [
    "imp_coef = coef.sort_values()\n",
    "matplotlib.rcParams['figure.figsize'] = (8.0, 10.0)\n",
    "imp_coef.plot(kind = \"barh\")\n",
    "plt.title(\"Feature relevance using Lasso Model\")\n",
    "plt.show()"
   ]
  },
  {
   "cell_type": "code",
   "execution_count": 34,
   "id": "4838273d",
   "metadata": {
    "scrolled": true
   },
   "outputs": [
    {
     "data": {
      "text/plain": [
       "Year_Birth             False\n",
       "Education              False\n",
       "Marital_Status         False\n",
       "Income                  True\n",
       "Kidhome                False\n",
       "Teenhome               False\n",
       "Recency                False\n",
       "MntWines                True\n",
       "MntFruits              False\n",
       "MntMeatProducts         True\n",
       "MntFishProducts        False\n",
       "MntSweetProducts       False\n",
       "MntGoldProds           False\n",
       "NumDealsPurchases      False\n",
       "NumWebPurchases        False\n",
       "NumCatalogPurchases    False\n",
       "NumStorePurchases      False\n",
       "NumWebVisitsMonth      False\n",
       "dtype: bool"
      ]
     },
     "execution_count": 34,
     "metadata": {},
     "output_type": "execute_result"
    }
   ],
   "source": [
    "coef != 0"
   ]
  },
  {
   "cell_type": "markdown",
   "id": "e89a2ab4",
   "metadata": {},
   "source": [
    "Looks like the income, amount spent on wines and meat are the most relevant features to predict the campaign acceptance."
   ]
  },
  {
   "cell_type": "markdown",
   "id": "9a42c146",
   "metadata": {},
   "source": [
    "#### 4.2. Train/Test Sets Split"
   ]
  },
  {
   "cell_type": "code",
   "execution_count": 35,
   "id": "e1a00429",
   "metadata": {},
   "outputs": [],
   "source": [
    "X = data[[\"Income\", \"MntWines\", \"MntMeatProducts\"]]\n",
    "\n",
    "# Normalize features\n",
    "scaler = StandardScaler()\n",
    "X = scaler.fit_transform(X)\n",
    "\n",
    "X_train, X_test, y_train, y_test = train_test_split(X, y, test_size=0.33, random_state=10)"
   ]
  },
  {
   "cell_type": "markdown",
   "id": "49fdb917",
   "metadata": {},
   "source": [
    "#### 4.3. Train Model"
   ]
  },
  {
   "cell_type": "code",
   "execution_count": 36,
   "id": "10db90c1",
   "metadata": {},
   "outputs": [
    {
     "data": {
      "text/plain": [
       "GaussianNB()"
      ]
     },
     "execution_count": 36,
     "metadata": {},
     "output_type": "execute_result"
    }
   ],
   "source": [
    "from sklearn.naive_bayes import GaussianNB\n",
    "\n",
    "clf_nb = GaussianNB()\n",
    "\n",
    "clf_nb.fit(X_train, y_train)"
   ]
  },
  {
   "cell_type": "markdown",
   "id": "782ba8ee",
   "metadata": {},
   "source": [
    "#### 4.4. Evaluate Model"
   ]
  },
  {
   "cell_type": "code",
   "execution_count": 37,
   "id": "081172e8",
   "metadata": {
    "scrolled": true
   },
   "outputs": [
    {
     "name": "stdout",
     "output_type": "stream",
     "text": [
      "Accuracy: 0.7779\n",
      "F1-Score (Rejected): 0.8478\n",
      "F1-Score (Accepted): 0.5894\n"
     ]
    }
   ],
   "source": [
    "acc = clf_nb.score(X_test, y_test)\n",
    "f1 = f1_score(y_test, clf_nb.predict(X_test), average=None, labels=[0,1])\n",
    "\n",
    "print(f\"Accuracy: {acc:.4f}\")\n",
    "print(f\"F1-Score (Rejected): {f1[0]:.4f}\")\n",
    "print(f\"F1-Score (Accepted): {f1[1]:.4f}\")"
   ]
  },
  {
   "cell_type": "markdown",
   "id": "5ab0bb37",
   "metadata": {},
   "source": [
    "The obtained model performed rather well in the evaluation, although further improvements can be made. \n",
    "\n",
    "For instance, in the following code block, it is shown that the ammount of rejected campaigns is way higher than the accepted campaigns, in both sets, which may result in a certain bias towards the rejected campaigns, as shown by the F1-scores. \n",
    "\n",
    "If the ammount of accepted and reject campaigns is evened out, it's likely that the model will perform better in the evaluation, as it isn't biased towards the rejected campaigns."
   ]
  },
  {
   "cell_type": "code",
   "execution_count": 38,
   "id": "7738f532",
   "metadata": {},
   "outputs": [
    {
     "name": "stdout",
     "output_type": "stream",
     "text": [
      "Label counts in Training Set:\n",
      " 0    0.739919\n",
      "1    0.260081\n",
      "Name: AcceptedAnyCmp, dtype: float64 \n",
      "\n",
      "Label counts in Test Set:\n",
      " 0    0.702997\n",
      "1    0.297003\n",
      "Name: AcceptedAnyCmp, dtype: float64\n"
     ]
    }
   ],
   "source": [
    "# Check if the number of labels is even in both sets\n",
    "train_count = y_train.value_counts(normalize=True)\n",
    "test_count = y_test.value_counts(normalize=True)\n",
    "\n",
    "print(\"Label counts in Training Set:\\n\", train_count, \"\\n\")\n",
    "print(\"Label counts in Test Set:\\n\", test_count)"
   ]
  },
  {
   "cell_type": "markdown",
   "id": "53b25511",
   "metadata": {},
   "source": [
    "### 5. Market Segmentation (Clustering)\n",
    "\n",
    "Based on the following [video](https://www.youtube.com/watch?v=4jv1pUrG0Zk)."
   ]
  },
  {
   "cell_type": "code",
   "execution_count": null,
   "id": "b12ddc78",
   "metadata": {},
   "outputs": [],
   "source": []
  }
 ],
 "metadata": {
  "kernelspec": {
   "display_name": "Python 3",
   "language": "python",
   "name": "python3"
  },
  "language_info": {
   "codemirror_mode": {
    "name": "ipython",
    "version": 3
   },
   "file_extension": ".py",
   "mimetype": "text/x-python",
   "name": "python",
   "nbconvert_exporter": "python",
   "pygments_lexer": "ipython3",
   "version": "3.9.5"
  }
 },
 "nbformat": 4,
 "nbformat_minor": 5
}
